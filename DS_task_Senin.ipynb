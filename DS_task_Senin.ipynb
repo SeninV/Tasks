{
  "nbformat": 4,
  "nbformat_minor": 0,
  "metadata": {
    "colab": {
      "name": "DS_task_Senin.ipynb",
      "provenance": [],
      "collapsed_sections": [],
      "toc_visible": true
    },
    "kernelspec": {
      "name": "python3",
      "display_name": "Python 3"
    },
    "language_info": {
      "name": "python"
    }
  },
  "cells": [
    {
      "cell_type": "code",
      "execution_count": 1,
      "metadata": {
        "id": "ov7fzA7welTN"
      },
      "outputs": [],
      "source": [
        "import pandas as pd\n",
        "import numpy as np"
      ]
    },
    {
      "cell_type": "code",
      "source": [
        "from sklearn.model_selection import train_test_split\n",
        "from sklearn.linear_model import LogisticRegression\n",
        "from sklearn.ensemble import RandomForestClassifier\n",
        "from sklearn.tree import DecisionTreeClassifier\n",
        "from sklearn.model_selection import cross_val_score\n",
        "from sklearn.metrics import precision_score, plot_roc_curve, accuracy_score, recall_score\n",
        "from graphviz import Source\n",
        "from sklearn import tree\n",
        "from IPython.display import SVG"
      ],
      "metadata": {
        "id": "WhVQKz_hexl4"
      },
      "execution_count": 2,
      "outputs": []
    },
    {
      "cell_type": "code",
      "source": [
        "from google.colab import drive\n",
        "drive.mount('/content/drive')"
      ],
      "metadata": {
        "colab": {
          "base_uri": "https://localhost:8080/"
        },
        "id": "afGkfvsCeyv3",
        "outputId": "a8e75c0e-2590-44c1-c4d8-e8a55b3d254a"
      },
      "execution_count": 3,
      "outputs": [
        {
          "output_type": "stream",
          "name": "stdout",
          "text": [
            "Drive already mounted at /content/drive; to attempt to forcibly remount, call drive.mount(\"/content/drive\", force_remount=True).\n"
          ]
        }
      ]
    },
    {
      "cell_type": "code",
      "source": [
        "df = pd.read_csv(\"/content/drive/MyDrive/Старт проект/test_data_regno.csv\", sep = \";\")"
      ],
      "metadata": {
        "id": "vU1TkFbye0HX"
      },
      "execution_count": 4,
      "outputs": []
    },
    {
      "cell_type": "markdown",
      "source": [
        "### Подготовка данных, выделение положительных и отрицательных примеров для обучающей выборки"
      ],
      "metadata": {
        "id": "XYqMIZsvfHK1"
      }
    },
    {
      "cell_type": "markdown",
      "source": [
        "Так как требуется минимизировать трудозатраты сотрудников по замене ГРЗ, то следовательно нужно найти все случаи, когда сотрудник сам изменяет ГРЗ. Т.е. где regno_recognize неравно regno"
      ],
      "metadata": {
        "id": "xkmIuGh0fQNK"
      }
    },
    {
      "cell_type": "markdown",
      "source": [
        "При этом положительными примерами(где нужно использовать новый алгоритм) из этой выборки будут те, в которых результат определения алгоритмом номера будет совпадать с итоговым значением алгоритма (regno_ai = regno), а распознавание ГРЗ камерой не будет совпадать (regno_recognize != regno)"
      ],
      "metadata": {
        "id": "nJYb6D46f6Lr"
      }
    },
    {
      "cell_type": "code",
      "source": [
        "df_positive = df[(df.regno_recognize != df.regno) & (df.regno_ai == df.regno)] # положительные примеры\n",
        "df_positive.insert(0,'target', np.ones(df_positive.shape[0], dtype=int))"
      ],
      "metadata": {
        "id": "HT4gSwONfN9n"
      },
      "execution_count": 5,
      "outputs": []
    },
    {
      "cell_type": "markdown",
      "source": [
        "Отрицательными примерами(где алгоритм применять не стоит) будут те, в которых распознавание ГРЗ камерой совпадает с итоговы результатом (regno_recognize = regno), а новый алгоритм дает результат, отличающийся от итогового распознавания (regno_ai != regno).\n",
        "\n",
        "При этом необходимо удалить все примеры, в которых оператор не смог распознать символ(в которых встречается \"_\" у regno), так как они не являются информативными, потому что предполагается то , что если человек по фотографии не смог распознать номер, то значит и алгоритм этого сделать не может."
      ],
      "metadata": {
        "id": "aHlXljBviOh_"
      }
    },
    {
      "cell_type": "code",
      "source": [
        "df_negative = df[(df.regno_recognize == df.regno) & (df.regno_ai != df.regno) & ~(df.regno.str.contains('\\_', regex=True))] #отрицательные примеры за исключением тех у кого и оператор не смог распознать\n",
        "df_negative.insert(0,'target', np.zeros(df_negative.shape[0], dtype=int))"
      ],
      "metadata": {
        "id": "CaB1k1sCiKqm"
      },
      "execution_count": 6,
      "outputs": []
    },
    {
      "cell_type": "markdown",
      "source": [
        "Объединяем положительные и отрицательные примеры"
      ],
      "metadata": {
        "id": "cPkpapHjj37_"
      }
    },
    {
      "cell_type": "code",
      "source": [
        "df_result = pd.concat([df_positive,df_negative]).reset_index().drop(columns = [\"index\"])"
      ],
      "metadata": {
        "id": "Zi82w_Bzj2Hw"
      },
      "execution_count": 7,
      "outputs": []
    },
    {
      "cell_type": "markdown",
      "source": [
        "### Подготовка параметров на которых будет обучаться модель"
      ],
      "metadata": {
        "id": "qYaTHxEzjs0v"
      }
    },
    {
      "cell_type": "markdown",
      "source": [
        "Так как параметр result_code является ликом ( ставится уже после проверки ГРЗ сотрудником) уберем его.\n",
        "\n",
        "Так же убераем параметр id операции, так как он неинформативен."
      ],
      "metadata": {
        "id": "VKHBF0Bnj8vv"
      }
    },
    {
      "cell_type": "code",
      "source": [
        "df_split_result = df_result.drop(columns = [\"id\", \"result_code\"], axis = 1)"
      ],
      "metadata": {
        "id": "ZyI4-K9ejzA1"
      },
      "execution_count": 8,
      "outputs": []
    },
    {
      "cell_type": "markdown",
      "source": [
        "Что бы было удобно моделе обрабатывать данные, то разобъем symbol_scores и length_scores по элементам и распишем как отдельные параметры.\n",
        "\n",
        "Например: symbol_scores_1, symbol_scores_2"
      ],
      "metadata": {
        "id": "5xWRo-hAl23l"
      }
    },
    {
      "cell_type": "markdown",
      "source": [
        "Максимальное количество символов в номере может равняться 10.\n",
        "В номерах короче максимального, заполним нулями недостающие поля."
      ],
      "metadata": {
        "id": "6vBjJvWPmzdZ"
      }
    },
    {
      "cell_type": "code",
      "source": [
        "# Делаем symbol_scores массивом из float и дополняем до 10 знаков\n",
        "def split_scores(x):\n",
        "  split_x =  x.strip(\"[]\").split(\",\")\n",
        "  split_x = list(map(float,split_x))\n",
        "  split_x += [0.0] * (10-len(split_x))\n",
        "  return split_x"
      ],
      "metadata": {
        "id": "ASAPWVlBmCiV"
      },
      "execution_count": 9,
      "outputs": []
    },
    {
      "cell_type": "code",
      "source": [
        "df_split_result[\"symbol_scores\"] = df_split_result.symbol_scores.apply(split_scores)\n",
        "symbol_scores = [\"symbol_scores_\" + str(i) for i in range(1,11)]\n",
        "df_split_result[symbol_scores] = df_split_result.symbol_scores.values.tolist()"
      ],
      "metadata": {
        "id": "2ax1-KWimCt-"
      },
      "execution_count": 10,
      "outputs": []
    },
    {
      "cell_type": "markdown",
      "source": [
        "Так же поступаем вероятностью длины номера"
      ],
      "metadata": {
        "id": "U6yl-IwcnqIY"
      }
    },
    {
      "cell_type": "code",
      "source": [
        "# Делаем split_length массивом из float\n",
        "def split_length(x):\n",
        "  split_x =  x.strip(\"[]\").split(\",\")\n",
        "  split_x = list(map(float,split_x))\n",
        "  return split_x"
      ],
      "metadata": {
        "id": "ndTxTQUKmZM-"
      },
      "execution_count": 11,
      "outputs": []
    },
    {
      "cell_type": "code",
      "source": [
        "df_split_result[\"length_scores\"] = df_split_result.length_scores.apply(split_length)\n",
        "length_scores = [\"length_scores_\" + str(i) for i in range(11)]\n",
        "df_split_result[length_scores] = df_split_result.length_scores.values.tolist()"
      ],
      "metadata": {
        "id": "up5ZkgZ9maQV"
      },
      "execution_count": 12,
      "outputs": []
    },
    {
      "cell_type": "markdown",
      "source": [
        "Теперь можно спокойно удалить symbol_scores и length_scores, так как данные из них уже разложены."
      ],
      "metadata": {
        "id": "7CtOmTJ4oJP-"
      }
    },
    {
      "cell_type": "code",
      "source": [
        "df_split_result.drop(columns = [\"symbol_scores\", \"length_scores\"], axis = 1, inplace = True)"
      ],
      "metadata": {
        "id": "r-k5ImFyoDDm"
      },
      "execution_count": 13,
      "outputs": []
    },
    {
      "cell_type": "markdown",
      "source": [
        "### Выбор алгоритма для обучения и метрики сравнения"
      ],
      "metadata": {
        "id": "-Wg2AsEBpLOS"
      }
    },
    {
      "cell_type": "markdown",
      "source": [
        "Что бы сравнивать результаты работы алгоритмов, необходима метрика, по которой будет рассчитана правильно решенной задачи."
      ],
      "metadata": {
        "id": "WXN17vaUpSbY"
      }
    },
    {
      "cell_type": "markdown",
      "source": [
        "В качестве метрики предлагается использовать Precision, по причине:\n",
        "\n",
        "Так как требование - минимизировать трудозатраты сотрудника, то следовательно важно, что бы в случае применения алгоритма было меньше ложных срабатываний ( следовательно ошибок первого рода).\n",
        "Таким образом Precision показывает уверенность использования нового алгоритма.\n"
      ],
      "metadata": {
        "id": "S3adqGDxpqLe"
      }
    },
    {
      "cell_type": "markdown",
      "source": [
        "Обучения проводятся на уверенности нового алгоритма в каждом символе и на уверенности в длине слова.\n",
        "\n",
        "Для подсчета результатов будем использовать кросс валидацию."
      ],
      "metadata": {
        "id": "iRyVERoo_A9N"
      }
    },
    {
      "cell_type": "code",
      "source": [
        "X_for_cv = df_split_result[symbol_scores + length_scores]\n",
        "y_for_cv = df_split_result[\"target\"]"
      ],
      "metadata": {
        "id": "shjqhnIO_TIX"
      },
      "execution_count": 14,
      "outputs": []
    },
    {
      "cell_type": "code",
      "source": [
        "X_for_cv.head()"
      ],
      "metadata": {
        "colab": {
          "base_uri": "https://localhost:8080/",
          "height": 300
        },
        "id": "QivD-pqRJf3y",
        "outputId": "2492824b-37d4-4614-de5a-fe2a5a6283d8"
      },
      "execution_count": 15,
      "outputs": [
        {
          "output_type": "execute_result",
          "data": {
            "text/plain": [
              "   symbol_scores_1  symbol_scores_2  symbol_scores_3  symbol_scores_4  \\\n",
              "0         0.999782         0.999895         0.999890         0.999968   \n",
              "1         0.999679         0.999889         0.999945         0.999968   \n",
              "2         0.999875         0.999929         0.999924         0.999895   \n",
              "3         0.999919         0.999942         0.999929         0.999969   \n",
              "4         0.994265         0.999911         0.999550         0.999770   \n",
              "\n",
              "   symbol_scores_5  symbol_scores_6  symbol_scores_7  symbol_scores_8  \\\n",
              "0         0.999754         0.999676         0.999994         0.999968   \n",
              "1         0.999813         0.999835         0.999760         0.999530   \n",
              "2         0.999770         0.999627         0.999886         0.999754   \n",
              "3         0.999956         0.999912         0.999996         0.999985   \n",
              "4         0.999887         0.999640         0.999091         0.999119   \n",
              "\n",
              "   symbol_scores_9  symbol_scores_10  ...  length_scores_1  length_scores_2  \\\n",
              "0         0.999943               0.0  ...     2.549491e-08     2.545317e-08   \n",
              "1         0.999959               0.0  ...     1.279547e-08     1.280682e-08   \n",
              "2         0.999882               0.0  ...     4.850030e-08     4.857205e-08   \n",
              "3         0.999927               0.0  ...     2.977636e-08     2.974338e-08   \n",
              "4         0.000000               0.0  ...     1.833720e-07     1.827866e-07   \n",
              "\n",
              "   length_scores_3  length_scores_4  length_scores_5  length_scores_6  \\\n",
              "0     2.556420e-08     2.546721e-08     2.542925e-08     2.545759e-08   \n",
              "1     1.273191e-08     1.288356e-08     1.284668e-08     1.282181e-08   \n",
              "2     4.862887e-08     4.846895e-08     4.896281e-08     4.887109e-08   \n",
              "3     2.980272e-08     2.991269e-08     3.017071e-08     3.001276e-08   \n",
              "4     1.826682e-07     1.832346e-07     1.827559e-07     1.831301e-07   \n",
              "\n",
              "   length_scores_7  length_scores_8  length_scores_9  length_scores_10  \n",
              "0     1.569068e-07         0.000023         0.999977      2.547318e-08  \n",
              "1     4.594821e-07         0.000008         0.999991      1.277828e-08  \n",
              "2     1.182716e-06         0.000048         0.999950      4.897523e-08  \n",
              "3     1.712614e-07         0.000054         0.999945      2.989672e-08  \n",
              "4     3.612299e-05         0.999897         0.000065      1.827899e-07  \n",
              "\n",
              "[5 rows x 21 columns]"
            ],
            "text/html": [
              "\n",
              "  <div id=\"df-17cfba85-94dd-47a6-8b41-8ab2b8bb6b15\">\n",
              "    <div class=\"colab-df-container\">\n",
              "      <div>\n",
              "<style scoped>\n",
              "    .dataframe tbody tr th:only-of-type {\n",
              "        vertical-align: middle;\n",
              "    }\n",
              "\n",
              "    .dataframe tbody tr th {\n",
              "        vertical-align: top;\n",
              "    }\n",
              "\n",
              "    .dataframe thead th {\n",
              "        text-align: right;\n",
              "    }\n",
              "</style>\n",
              "<table border=\"1\" class=\"dataframe\">\n",
              "  <thead>\n",
              "    <tr style=\"text-align: right;\">\n",
              "      <th></th>\n",
              "      <th>symbol_scores_1</th>\n",
              "      <th>symbol_scores_2</th>\n",
              "      <th>symbol_scores_3</th>\n",
              "      <th>symbol_scores_4</th>\n",
              "      <th>symbol_scores_5</th>\n",
              "      <th>symbol_scores_6</th>\n",
              "      <th>symbol_scores_7</th>\n",
              "      <th>symbol_scores_8</th>\n",
              "      <th>symbol_scores_9</th>\n",
              "      <th>symbol_scores_10</th>\n",
              "      <th>...</th>\n",
              "      <th>length_scores_1</th>\n",
              "      <th>length_scores_2</th>\n",
              "      <th>length_scores_3</th>\n",
              "      <th>length_scores_4</th>\n",
              "      <th>length_scores_5</th>\n",
              "      <th>length_scores_6</th>\n",
              "      <th>length_scores_7</th>\n",
              "      <th>length_scores_8</th>\n",
              "      <th>length_scores_9</th>\n",
              "      <th>length_scores_10</th>\n",
              "    </tr>\n",
              "  </thead>\n",
              "  <tbody>\n",
              "    <tr>\n",
              "      <th>0</th>\n",
              "      <td>0.999782</td>\n",
              "      <td>0.999895</td>\n",
              "      <td>0.999890</td>\n",
              "      <td>0.999968</td>\n",
              "      <td>0.999754</td>\n",
              "      <td>0.999676</td>\n",
              "      <td>0.999994</td>\n",
              "      <td>0.999968</td>\n",
              "      <td>0.999943</td>\n",
              "      <td>0.0</td>\n",
              "      <td>...</td>\n",
              "      <td>2.549491e-08</td>\n",
              "      <td>2.545317e-08</td>\n",
              "      <td>2.556420e-08</td>\n",
              "      <td>2.546721e-08</td>\n",
              "      <td>2.542925e-08</td>\n",
              "      <td>2.545759e-08</td>\n",
              "      <td>1.569068e-07</td>\n",
              "      <td>0.000023</td>\n",
              "      <td>0.999977</td>\n",
              "      <td>2.547318e-08</td>\n",
              "    </tr>\n",
              "    <tr>\n",
              "      <th>1</th>\n",
              "      <td>0.999679</td>\n",
              "      <td>0.999889</td>\n",
              "      <td>0.999945</td>\n",
              "      <td>0.999968</td>\n",
              "      <td>0.999813</td>\n",
              "      <td>0.999835</td>\n",
              "      <td>0.999760</td>\n",
              "      <td>0.999530</td>\n",
              "      <td>0.999959</td>\n",
              "      <td>0.0</td>\n",
              "      <td>...</td>\n",
              "      <td>1.279547e-08</td>\n",
              "      <td>1.280682e-08</td>\n",
              "      <td>1.273191e-08</td>\n",
              "      <td>1.288356e-08</td>\n",
              "      <td>1.284668e-08</td>\n",
              "      <td>1.282181e-08</td>\n",
              "      <td>4.594821e-07</td>\n",
              "      <td>0.000008</td>\n",
              "      <td>0.999991</td>\n",
              "      <td>1.277828e-08</td>\n",
              "    </tr>\n",
              "    <tr>\n",
              "      <th>2</th>\n",
              "      <td>0.999875</td>\n",
              "      <td>0.999929</td>\n",
              "      <td>0.999924</td>\n",
              "      <td>0.999895</td>\n",
              "      <td>0.999770</td>\n",
              "      <td>0.999627</td>\n",
              "      <td>0.999886</td>\n",
              "      <td>0.999754</td>\n",
              "      <td>0.999882</td>\n",
              "      <td>0.0</td>\n",
              "      <td>...</td>\n",
              "      <td>4.850030e-08</td>\n",
              "      <td>4.857205e-08</td>\n",
              "      <td>4.862887e-08</td>\n",
              "      <td>4.846895e-08</td>\n",
              "      <td>4.896281e-08</td>\n",
              "      <td>4.887109e-08</td>\n",
              "      <td>1.182716e-06</td>\n",
              "      <td>0.000048</td>\n",
              "      <td>0.999950</td>\n",
              "      <td>4.897523e-08</td>\n",
              "    </tr>\n",
              "    <tr>\n",
              "      <th>3</th>\n",
              "      <td>0.999919</td>\n",
              "      <td>0.999942</td>\n",
              "      <td>0.999929</td>\n",
              "      <td>0.999969</td>\n",
              "      <td>0.999956</td>\n",
              "      <td>0.999912</td>\n",
              "      <td>0.999996</td>\n",
              "      <td>0.999985</td>\n",
              "      <td>0.999927</td>\n",
              "      <td>0.0</td>\n",
              "      <td>...</td>\n",
              "      <td>2.977636e-08</td>\n",
              "      <td>2.974338e-08</td>\n",
              "      <td>2.980272e-08</td>\n",
              "      <td>2.991269e-08</td>\n",
              "      <td>3.017071e-08</td>\n",
              "      <td>3.001276e-08</td>\n",
              "      <td>1.712614e-07</td>\n",
              "      <td>0.000054</td>\n",
              "      <td>0.999945</td>\n",
              "      <td>2.989672e-08</td>\n",
              "    </tr>\n",
              "    <tr>\n",
              "      <th>4</th>\n",
              "      <td>0.994265</td>\n",
              "      <td>0.999911</td>\n",
              "      <td>0.999550</td>\n",
              "      <td>0.999770</td>\n",
              "      <td>0.999887</td>\n",
              "      <td>0.999640</td>\n",
              "      <td>0.999091</td>\n",
              "      <td>0.999119</td>\n",
              "      <td>0.000000</td>\n",
              "      <td>0.0</td>\n",
              "      <td>...</td>\n",
              "      <td>1.833720e-07</td>\n",
              "      <td>1.827866e-07</td>\n",
              "      <td>1.826682e-07</td>\n",
              "      <td>1.832346e-07</td>\n",
              "      <td>1.827559e-07</td>\n",
              "      <td>1.831301e-07</td>\n",
              "      <td>3.612299e-05</td>\n",
              "      <td>0.999897</td>\n",
              "      <td>0.000065</td>\n",
              "      <td>1.827899e-07</td>\n",
              "    </tr>\n",
              "  </tbody>\n",
              "</table>\n",
              "<p>5 rows × 21 columns</p>\n",
              "</div>\n",
              "      <button class=\"colab-df-convert\" onclick=\"convertToInteractive('df-17cfba85-94dd-47a6-8b41-8ab2b8bb6b15')\"\n",
              "              title=\"Convert this dataframe to an interactive table.\"\n",
              "              style=\"display:none;\">\n",
              "        \n",
              "  <svg xmlns=\"http://www.w3.org/2000/svg\" height=\"24px\"viewBox=\"0 0 24 24\"\n",
              "       width=\"24px\">\n",
              "    <path d=\"M0 0h24v24H0V0z\" fill=\"none\"/>\n",
              "    <path d=\"M18.56 5.44l.94 2.06.94-2.06 2.06-.94-2.06-.94-.94-2.06-.94 2.06-2.06.94zm-11 1L8.5 8.5l.94-2.06 2.06-.94-2.06-.94L8.5 2.5l-.94 2.06-2.06.94zm10 10l.94 2.06.94-2.06 2.06-.94-2.06-.94-.94-2.06-.94 2.06-2.06.94z\"/><path d=\"M17.41 7.96l-1.37-1.37c-.4-.4-.92-.59-1.43-.59-.52 0-1.04.2-1.43.59L10.3 9.45l-7.72 7.72c-.78.78-.78 2.05 0 2.83L4 21.41c.39.39.9.59 1.41.59.51 0 1.02-.2 1.41-.59l7.78-7.78 2.81-2.81c.8-.78.8-2.07 0-2.86zM5.41 20L4 18.59l7.72-7.72 1.47 1.35L5.41 20z\"/>\n",
              "  </svg>\n",
              "      </button>\n",
              "      \n",
              "  <style>\n",
              "    .colab-df-container {\n",
              "      display:flex;\n",
              "      flex-wrap:wrap;\n",
              "      gap: 12px;\n",
              "    }\n",
              "\n",
              "    .colab-df-convert {\n",
              "      background-color: #E8F0FE;\n",
              "      border: none;\n",
              "      border-radius: 50%;\n",
              "      cursor: pointer;\n",
              "      display: none;\n",
              "      fill: #1967D2;\n",
              "      height: 32px;\n",
              "      padding: 0 0 0 0;\n",
              "      width: 32px;\n",
              "    }\n",
              "\n",
              "    .colab-df-convert:hover {\n",
              "      background-color: #E2EBFA;\n",
              "      box-shadow: 0px 1px 2px rgba(60, 64, 67, 0.3), 0px 1px 3px 1px rgba(60, 64, 67, 0.15);\n",
              "      fill: #174EA6;\n",
              "    }\n",
              "\n",
              "    [theme=dark] .colab-df-convert {\n",
              "      background-color: #3B4455;\n",
              "      fill: #D2E3FC;\n",
              "    }\n",
              "\n",
              "    [theme=dark] .colab-df-convert:hover {\n",
              "      background-color: #434B5C;\n",
              "      box-shadow: 0px 1px 3px 1px rgba(0, 0, 0, 0.15);\n",
              "      filter: drop-shadow(0px 1px 2px rgba(0, 0, 0, 0.3));\n",
              "      fill: #FFFFFF;\n",
              "    }\n",
              "  </style>\n",
              "\n",
              "      <script>\n",
              "        const buttonEl =\n",
              "          document.querySelector('#df-17cfba85-94dd-47a6-8b41-8ab2b8bb6b15 button.colab-df-convert');\n",
              "        buttonEl.style.display =\n",
              "          google.colab.kernel.accessAllowed ? 'block' : 'none';\n",
              "\n",
              "        async function convertToInteractive(key) {\n",
              "          const element = document.querySelector('#df-17cfba85-94dd-47a6-8b41-8ab2b8bb6b15');\n",
              "          const dataTable =\n",
              "            await google.colab.kernel.invokeFunction('convertToInteractive',\n",
              "                                                     [key], {});\n",
              "          if (!dataTable) return;\n",
              "\n",
              "          const docLinkHtml = 'Like what you see? Visit the ' +\n",
              "            '<a target=\"_blank\" href=https://colab.research.google.com/notebooks/data_table.ipynb>data table notebook</a>'\n",
              "            + ' to learn more about interactive tables.';\n",
              "          element.innerHTML = '';\n",
              "          dataTable['output_type'] = 'display_data';\n",
              "          await google.colab.output.renderOutput(dataTable, element);\n",
              "          const docLink = document.createElement('div');\n",
              "          docLink.innerHTML = docLinkHtml;\n",
              "          element.appendChild(docLink);\n",
              "        }\n",
              "      </script>\n",
              "    </div>\n",
              "  </div>\n",
              "  "
            ]
          },
          "metadata": {},
          "execution_count": 15
        }
      ]
    },
    {
      "cell_type": "markdown",
      "source": [
        "В качестве классификаторов рассматриваются:\n",
        "\n",
        "1) RandomForestClassifier\n",
        "\n",
        "2) DecisionTreeClassifier\n",
        "\n",
        "3) LogisticRegression (можно применять, чтобы посмотреть какие признаки вносят наибольший эффект)"
      ],
      "metadata": {
        "id": "5zWKsUTC_7GK"
      }
    },
    {
      "cell_type": "code",
      "source": [
        "rf_clf = RandomForestClassifier(random_state = 42, max_depth = 15)"
      ],
      "metadata": {
        "id": "p1Dkb3XnBHFN"
      },
      "execution_count": 16,
      "outputs": []
    },
    {
      "cell_type": "code",
      "source": [
        "dt_clf = DecisionTreeClassifier(random_state = 42, max_depth = 15)"
      ],
      "metadata": {
        "id": "JzYweZaABWn-"
      },
      "execution_count": 17,
      "outputs": []
    },
    {
      "cell_type": "code",
      "source": [
        "lr_clf = LogisticRegression(random_state=42, max_iter=1000)"
      ],
      "metadata": {
        "id": "sLkf1PE5BcFT"
      },
      "execution_count": 18,
      "outputs": []
    },
    {
      "cell_type": "code",
      "source": [
        "cross_val_score(rf_clf,\n",
        "                X_for_cv,\n",
        "                y_for_cv,\n",
        "                cv=5,\n",
        "                scoring = \"precision\").mean()"
      ],
      "metadata": {
        "colab": {
          "base_uri": "https://localhost:8080/"
        },
        "id": "wl8Zez_Y_6mR",
        "outputId": "53b8ac5f-949c-4565-d88e-f92cd2f4ac55"
      },
      "execution_count": 19,
      "outputs": [
        {
          "output_type": "execute_result",
          "data": {
            "text/plain": [
              "0.8904659192056859"
            ]
          },
          "metadata": {},
          "execution_count": 19
        }
      ]
    },
    {
      "cell_type": "code",
      "source": [
        "cross_val_score(dt_clf,\n",
        "                X_for_cv,\n",
        "                y_for_cv,\n",
        "                cv=5,\n",
        "                scoring = \"precision\").mean()"
      ],
      "metadata": {
        "colab": {
          "base_uri": "https://localhost:8080/"
        },
        "id": "E74d-nlXBelw",
        "outputId": "1fa4a54e-60a6-47d8-f450-134960667a41"
      },
      "execution_count": 20,
      "outputs": [
        {
          "output_type": "execute_result",
          "data": {
            "text/plain": [
              "0.8735289222723495"
            ]
          },
          "metadata": {},
          "execution_count": 20
        }
      ]
    },
    {
      "cell_type": "code",
      "source": [
        "cross_val_score(lr_clf,\n",
        "                X_for_cv,\n",
        "                y_for_cv,\n",
        "                cv=5,\n",
        "                scoring = \"precision\").mean()"
      ],
      "metadata": {
        "colab": {
          "base_uri": "https://localhost:8080/"
        },
        "id": "xiGatqurBlYV",
        "outputId": "40ebcc57-4d8e-4d05-ef15-256d9f0de128"
      },
      "execution_count": 21,
      "outputs": [
        {
          "output_type": "execute_result",
          "data": {
            "text/plain": [
              "0.8089237071135029"
            ]
          },
          "metadata": {},
          "execution_count": 21
        }
      ]
    },
    {
      "cell_type": "markdown",
      "source": [
        "Хорошо себя показали алгоритмы случайный лес и дерево решений, следовательно в дальнейшем будем их использовать.\n",
        "\n",
        "Для этой задаче деревья решений хорошо подходят, так как они описывают пороговые значения для уверенности модели.\n",
        "\n",
        "Но случайный лес менее интерпретируем. \n",
        "\n",
        "Поэтому для наглядности выводятся коэффициенты логистической регрессии и дерево решений, для понимания, что оказывает влияние на принятие алгоритмом решения.\n",
        "\n"
      ],
      "metadata": {
        "id": "R3ZV1jd_DTyQ"
      }
    },
    {
      "cell_type": "markdown",
      "source": [
        "#### Интерпретация результатов"
      ],
      "metadata": {
        "id": "ByXb4yo9KqZ3"
      }
    },
    {
      "cell_type": "markdown",
      "source": [
        "Для интерпретируемости не важна тестовая и валидационная выборка, поэтому модели строятся на всех данных."
      ],
      "metadata": {
        "id": "q2SzwSNAESpX"
      }
    },
    {
      "cell_type": "code",
      "source": [
        "dt_clf_for_display = DecisionTreeClassifier(random_state = 42, max_depth = 3, criterion = \"entropy\")"
      ],
      "metadata": {
        "id": "NTpnNgZ4Gpxi"
      },
      "execution_count": 22,
      "outputs": []
    },
    {
      "cell_type": "code",
      "source": [
        "dt_clf_for_display.fit(X_for_cv, y_for_cv)"
      ],
      "metadata": {
        "colab": {
          "base_uri": "https://localhost:8080/"
        },
        "id": "j5RUFWVL_2O-",
        "outputId": "45363ead-fb7d-4b44-d29f-9f45c65724f5"
      },
      "execution_count": 23,
      "outputs": [
        {
          "output_type": "execute_result",
          "data": {
            "text/plain": [
              "DecisionTreeClassifier(criterion='entropy', max_depth=3, random_state=42)"
            ]
          },
          "metadata": {},
          "execution_count": 23
        }
      ]
    },
    {
      "cell_type": "code",
      "source": [
        "graph = Source(tree.export_graphviz(dt_clf_for_display, out_file=None, feature_names=list(X_for_cv), class_names=['Не использовать', 'Использовать'], filled=True))\n",
        "display(SVG(graph.pipe(format='svg')))"
      ],
      "metadata": {
        "colab": {
          "base_uri": "https://localhost:8080/",
          "height": 619
        },
        "id": "uOwLxKNfE3VC",
        "outputId": "976651d3-a45d-4019-8e80-c1114b5717d0"
      },
      "execution_count": 24,
      "outputs": [
        {
          "output_type": "display_data",
          "data": {
            "text/plain": [
              "<IPython.core.display.SVG object>"
            ],
            "image/svg+xml": "<svg height=\"433pt\" viewBox=\"0.00 0.00 1522.00 433.00\" width=\"1522pt\" xmlns=\"http://www.w3.org/2000/svg\" xmlns:xlink=\"http://www.w3.org/1999/xlink\">\n<g class=\"graph\" id=\"graph0\" transform=\"scale(1 1) rotate(0) translate(4 429)\">\n<title>Tree</title>\n<polygon fill=\"#ffffff\" points=\"-4,4 -4,-429 1518,-429 1518,4 -4,4\" stroke=\"transparent\"/>\n<!-- 0 -->\n<g class=\"node\" id=\"node1\">\n<title>0</title>\n<polygon fill=\"#f6d2b8\" points=\"857.5,-425 665.5,-425 665.5,-342 857.5,-342 857.5,-425\" stroke=\"#000000\"/>\n<text fill=\"#000000\" font-family=\"Helvetica,sans-Serif\" font-size=\"14.00\" text-anchor=\"middle\" x=\"761.5\" y=\"-409.8\">symbol_scores_8 &lt;= 0.996</text>\n<text fill=\"#000000\" font-family=\"Helvetica,sans-Serif\" font-size=\"14.00\" text-anchor=\"middle\" x=\"761.5\" y=\"-394.8\">entropy = 0.966</text>\n<text fill=\"#000000\" font-family=\"Helvetica,sans-Serif\" font-size=\"14.00\" text-anchor=\"middle\" x=\"761.5\" y=\"-379.8\">samples = 24715</text>\n<text fill=\"#000000\" font-family=\"Helvetica,sans-Serif\" font-size=\"14.00\" text-anchor=\"middle\" x=\"761.5\" y=\"-364.8\">value = [15037, 9678]</text>\n<text fill=\"#000000\" font-family=\"Helvetica,sans-Serif\" font-size=\"14.00\" text-anchor=\"middle\" x=\"761.5\" y=\"-349.8\">class = Не использовать</text>\n</g>\n<!-- 1 -->\n<g class=\"node\" id=\"node2\">\n<title>1</title>\n<polygon fill=\"#e6843d\" points=\"671.5,-306 479.5,-306 479.5,-223 671.5,-223 671.5,-306\" stroke=\"#000000\"/>\n<text fill=\"#000000\" font-family=\"Helvetica,sans-Serif\" font-size=\"14.00\" text-anchor=\"middle\" x=\"575.5\" y=\"-290.8\">symbol_scores_1 &lt;= 0.998</text>\n<text fill=\"#000000\" font-family=\"Helvetica,sans-Serif\" font-size=\"14.00\" text-anchor=\"middle\" x=\"575.5\" y=\"-275.8\">entropy = 0.15</text>\n<text fill=\"#000000\" font-family=\"Helvetica,sans-Serif\" font-size=\"14.00\" text-anchor=\"middle\" x=\"575.5\" y=\"-260.8\">samples = 12009</text>\n<text fill=\"#000000\" font-family=\"Helvetica,sans-Serif\" font-size=\"14.00\" text-anchor=\"middle\" x=\"575.5\" y=\"-245.8\">value = [11750, 259]</text>\n<text fill=\"#000000\" font-family=\"Helvetica,sans-Serif\" font-size=\"14.00\" text-anchor=\"middle\" x=\"575.5\" y=\"-230.8\">class = Не использовать</text>\n</g>\n<!-- 0&#45;&gt;1 -->\n<g class=\"edge\" id=\"edge1\">\n<title>0-&gt;1</title>\n<path d=\"M696.4462,-341.8796C681.1546,-332.0962 664.7516,-321.6019 649.114,-311.5971\" fill=\"none\" stroke=\"#000000\"/>\n<polygon fill=\"#000000\" points=\"650.8268,-308.538 640.517,-306.0969 647.0543,-314.4345 650.8268,-308.538\" stroke=\"#000000\"/>\n<text fill=\"#000000\" font-family=\"Helvetica,sans-Serif\" font-size=\"14.00\" text-anchor=\"middle\" x=\"645.881\" y=\"-326.8147\">True</text>\n</g>\n<!-- 8 -->\n<g class=\"node\" id=\"node9\">\n<title>8</title>\n<polygon fill=\"#7ebfee\" points=\"1047.5,-306 855.5,-306 855.5,-223 1047.5,-223 1047.5,-306\" stroke=\"#000000\"/>\n<text fill=\"#000000\" font-family=\"Helvetica,sans-Serif\" font-size=\"14.00\" text-anchor=\"middle\" x=\"951.5\" y=\"-290.8\">symbol_scores_9 &lt;= 0.998</text>\n<text fill=\"#000000\" font-family=\"Helvetica,sans-Serif\" font-size=\"14.00\" text-anchor=\"middle\" x=\"951.5\" y=\"-275.8\">entropy = 0.825</text>\n<text fill=\"#000000\" font-family=\"Helvetica,sans-Serif\" font-size=\"14.00\" text-anchor=\"middle\" x=\"951.5\" y=\"-260.8\">samples = 12706</text>\n<text fill=\"#000000\" font-family=\"Helvetica,sans-Serif\" font-size=\"14.00\" text-anchor=\"middle\" x=\"951.5\" y=\"-245.8\">value = [3287, 9419]</text>\n<text fill=\"#000000\" font-family=\"Helvetica,sans-Serif\" font-size=\"14.00\" text-anchor=\"middle\" x=\"951.5\" y=\"-230.8\">class = Использовать</text>\n</g>\n<!-- 0&#45;&gt;8 -->\n<g class=\"edge\" id=\"edge8\">\n<title>0-&gt;8</title>\n<path d=\"M827.9528,-341.8796C843.5733,-332.0962 860.329,-321.6019 876.3029,-311.5971\" fill=\"none\" stroke=\"#000000\"/>\n<polygon fill=\"#000000\" points=\"878.4676,-314.3712 885.0847,-306.0969 874.7519,-308.4387 878.4676,-314.3712\" stroke=\"#000000\"/>\n<text fill=\"#000000\" font-family=\"Helvetica,sans-Serif\" font-size=\"14.00\" text-anchor=\"middle\" x=\"879.4863\" y=\"-326.762\">False</text>\n</g>\n<!-- 2 -->\n<g class=\"node\" id=\"node3\">\n<title>2</title>\n<polygon fill=\"#e58139\" points=\"385.5,-187 193.5,-187 193.5,-104 385.5,-104 385.5,-187\" stroke=\"#000000\"/>\n<text fill=\"#000000\" font-family=\"Helvetica,sans-Serif\" font-size=\"14.00\" text-anchor=\"middle\" x=\"289.5\" y=\"-171.8\">symbol_scores_1 &lt;= 0.974</text>\n<text fill=\"#000000\" font-family=\"Helvetica,sans-Serif\" font-size=\"14.00\" text-anchor=\"middle\" x=\"289.5\" y=\"-156.8\">entropy = 0.019</text>\n<text fill=\"#000000\" font-family=\"Helvetica,sans-Serif\" font-size=\"14.00\" text-anchor=\"middle\" x=\"289.5\" y=\"-141.8\">samples = 10115</text>\n<text fill=\"#000000\" font-family=\"Helvetica,sans-Serif\" font-size=\"14.00\" text-anchor=\"middle\" x=\"289.5\" y=\"-126.8\">value = [10097, 18]</text>\n<text fill=\"#000000\" font-family=\"Helvetica,sans-Serif\" font-size=\"14.00\" text-anchor=\"middle\" x=\"289.5\" y=\"-111.8\">class = Не использовать</text>\n</g>\n<!-- 1&#45;&gt;2 -->\n<g class=\"edge\" id=\"edge2\">\n<title>1-&gt;2</title>\n<path d=\"M479.4705,-224.5437C452.3525,-213.2603 422.6992,-200.922 395.0545,-189.4195\" fill=\"none\" stroke=\"#000000\"/>\n<polygon fill=\"#000000\" points=\"396.3401,-186.1636 385.7628,-185.5534 393.651,-192.6265 396.3401,-186.1636\" stroke=\"#000000\"/>\n</g>\n<!-- 5 -->\n<g class=\"node\" id=\"node6\">\n<title>5</title>\n<polygon fill=\"#e99356\" points=\"666,-187 485,-187 485,-104 666,-104 666,-187\" stroke=\"#000000\"/>\n<text fill=\"#000000\" font-family=\"Helvetica,sans-Serif\" font-size=\"14.00\" text-anchor=\"middle\" x=\"575.5\" y=\"-171.8\">length_scores_7 &lt;= 1.0</text>\n<text fill=\"#000000\" font-family=\"Helvetica,sans-Serif\" font-size=\"14.00\" text-anchor=\"middle\" x=\"575.5\" y=\"-156.8\">entropy = 0.55</text>\n<text fill=\"#000000\" font-family=\"Helvetica,sans-Serif\" font-size=\"14.00\" text-anchor=\"middle\" x=\"575.5\" y=\"-141.8\">samples = 1894</text>\n<text fill=\"#000000\" font-family=\"Helvetica,sans-Serif\" font-size=\"14.00\" text-anchor=\"middle\" x=\"575.5\" y=\"-126.8\">value = [1653, 241]</text>\n<text fill=\"#000000\" font-family=\"Helvetica,sans-Serif\" font-size=\"14.00\" text-anchor=\"middle\" x=\"575.5\" y=\"-111.8\">class = Не использовать</text>\n</g>\n<!-- 1&#45;&gt;5 -->\n<g class=\"edge\" id=\"edge5\">\n<title>1-&gt;5</title>\n<path d=\"M575.5,-222.8796C575.5,-214.6838 575.5,-205.9891 575.5,-197.5013\" fill=\"none\" stroke=\"#000000\"/>\n<polygon fill=\"#000000\" points=\"579.0001,-197.298 575.5,-187.2981 572.0001,-197.2981 579.0001,-197.298\" stroke=\"#000000\"/>\n</g>\n<!-- 3 -->\n<g class=\"node\" id=\"node4\">\n<title>3</title>\n<polygon fill=\"#e58139\" points=\"181,-68 0,-68 0,0 181,0 181,-68\" stroke=\"#000000\"/>\n<text fill=\"#000000\" font-family=\"Helvetica,sans-Serif\" font-size=\"14.00\" text-anchor=\"middle\" x=\"90.5\" y=\"-52.8\">entropy = 0.004</text>\n<text fill=\"#000000\" font-family=\"Helvetica,sans-Serif\" font-size=\"14.00\" text-anchor=\"middle\" x=\"90.5\" y=\"-37.8\">samples = 9253</text>\n<text fill=\"#000000\" font-family=\"Helvetica,sans-Serif\" font-size=\"14.00\" text-anchor=\"middle\" x=\"90.5\" y=\"-22.8\">value = [9250, 3]</text>\n<text fill=\"#000000\" font-family=\"Helvetica,sans-Serif\" font-size=\"14.00\" text-anchor=\"middle\" x=\"90.5\" y=\"-7.8\">class = Не использовать</text>\n</g>\n<!-- 2&#45;&gt;3 -->\n<g class=\"edge\" id=\"edge3\">\n<title>2-&gt;3</title>\n<path d=\"M215.3997,-103.9815C197.4263,-93.911 178.2678,-83.1764 160.491,-73.2161\" fill=\"none\" stroke=\"#000000\"/>\n<polygon fill=\"#000000\" points=\"161.7692,-69.9203 151.3344,-68.0856 158.3476,-76.0271 161.7692,-69.9203\" stroke=\"#000000\"/>\n</g>\n<!-- 4 -->\n<g class=\"node\" id=\"node5\">\n<title>4</title>\n<polygon fill=\"#e5833d\" points=\"380,-68 199,-68 199,0 380,0 380,-68\" stroke=\"#000000\"/>\n<text fill=\"#000000\" font-family=\"Helvetica,sans-Serif\" font-size=\"14.00\" text-anchor=\"middle\" x=\"289.5\" y=\"-52.8\">entropy = 0.127</text>\n<text fill=\"#000000\" font-family=\"Helvetica,sans-Serif\" font-size=\"14.00\" text-anchor=\"middle\" x=\"289.5\" y=\"-37.8\">samples = 862</text>\n<text fill=\"#000000\" font-family=\"Helvetica,sans-Serif\" font-size=\"14.00\" text-anchor=\"middle\" x=\"289.5\" y=\"-22.8\">value = [847, 15]</text>\n<text fill=\"#000000\" font-family=\"Helvetica,sans-Serif\" font-size=\"14.00\" text-anchor=\"middle\" x=\"289.5\" y=\"-7.8\">class = Не использовать</text>\n</g>\n<!-- 2&#45;&gt;4 -->\n<g class=\"edge\" id=\"edge4\">\n<title>2-&gt;4</title>\n<path d=\"M289.5,-103.9815C289.5,-95.618 289.5,-86.7965 289.5,-78.3409\" fill=\"none\" stroke=\"#000000\"/>\n<polygon fill=\"#000000\" points=\"293.0001,-78.2636 289.5,-68.2637 286.0001,-78.2637 293.0001,-78.2636\" stroke=\"#000000\"/>\n</g>\n<!-- 6 -->\n<g class=\"node\" id=\"node7\">\n<title>6</title>\n<polygon fill=\"#e88f4f\" points=\"579,-68 398,-68 398,0 579,0 579,-68\" stroke=\"#000000\"/>\n<text fill=\"#000000\" font-family=\"Helvetica,sans-Serif\" font-size=\"14.00\" text-anchor=\"middle\" x=\"488.5\" y=\"-52.8\">entropy = 0.469</text>\n<text fill=\"#000000\" font-family=\"Helvetica,sans-Serif\" font-size=\"14.00\" text-anchor=\"middle\" x=\"488.5\" y=\"-37.8\">samples = 1820</text>\n<text fill=\"#000000\" font-family=\"Helvetica,sans-Serif\" font-size=\"14.00\" text-anchor=\"middle\" x=\"488.5\" y=\"-22.8\">value = [1638, 182]</text>\n<text fill=\"#000000\" font-family=\"Helvetica,sans-Serif\" font-size=\"14.00\" text-anchor=\"middle\" x=\"488.5\" y=\"-7.8\">class = Не использовать</text>\n</g>\n<!-- 5&#45;&gt;6 -->\n<g class=\"edge\" id=\"edge6\">\n<title>5-&gt;6</title>\n<path d=\"M543.1044,-103.9815C536.0766,-94.9747 528.6345,-85.4367 521.5807,-76.3965\" fill=\"none\" stroke=\"#000000\"/>\n<polygon fill=\"#000000\" points=\"524.146,-73.9946 515.2349,-68.2637 518.6272,-78.3008 524.146,-73.9946\" stroke=\"#000000\"/>\n</g>\n<!-- 7 -->\n<g class=\"node\" id=\"node8\">\n<title>7</title>\n<polygon fill=\"#6bb6ec\" points=\"758,-68 597,-68 597,0 758,0 758,-68\" stroke=\"#000000\"/>\n<text fill=\"#000000\" font-family=\"Helvetica,sans-Serif\" font-size=\"14.00\" text-anchor=\"middle\" x=\"677.5\" y=\"-52.8\">entropy = 0.727</text>\n<text fill=\"#000000\" font-family=\"Helvetica,sans-Serif\" font-size=\"14.00\" text-anchor=\"middle\" x=\"677.5\" y=\"-37.8\">samples = 74</text>\n<text fill=\"#000000\" font-family=\"Helvetica,sans-Serif\" font-size=\"14.00\" text-anchor=\"middle\" x=\"677.5\" y=\"-22.8\">value = [15, 59]</text>\n<text fill=\"#000000\" font-family=\"Helvetica,sans-Serif\" font-size=\"14.00\" text-anchor=\"middle\" x=\"677.5\" y=\"-7.8\">class = Использовать</text>\n</g>\n<!-- 5&#45;&gt;7 -->\n<g class=\"edge\" id=\"edge7\">\n<title>5-&gt;7</title>\n<path d=\"M613.481,-103.9815C621.8886,-94.7908 630.8021,-85.0472 639.2215,-75.8436\" fill=\"none\" stroke=\"#000000\"/>\n<polygon fill=\"#000000\" points=\"641.9883,-78.0045 646.1557,-68.2637 636.8234,-73.2797 641.9883,-78.0045\" stroke=\"#000000\"/>\n</g>\n<!-- 9 -->\n<g class=\"node\" id=\"node10\">\n<title>9</title>\n<polygon fill=\"#f8dfcd\" points=\"1044,-187 859,-187 859,-104 1044,-104 1044,-187\" stroke=\"#000000\"/>\n<text fill=\"#000000\" font-family=\"Helvetica,sans-Serif\" font-size=\"14.00\" text-anchor=\"middle\" x=\"951.5\" y=\"-171.8\">length_scores_8 &lt;= 0.999</text>\n<text fill=\"#000000\" font-family=\"Helvetica,sans-Serif\" font-size=\"14.00\" text-anchor=\"middle\" x=\"951.5\" y=\"-156.8\">entropy = 0.985</text>\n<text fill=\"#000000\" font-family=\"Helvetica,sans-Serif\" font-size=\"14.00\" text-anchor=\"middle\" x=\"951.5\" y=\"-141.8\">samples = 3170</text>\n<text fill=\"#000000\" font-family=\"Helvetica,sans-Serif\" font-size=\"14.00\" text-anchor=\"middle\" x=\"951.5\" y=\"-126.8\">value = [1812, 1358]</text>\n<text fill=\"#000000\" font-family=\"Helvetica,sans-Serif\" font-size=\"14.00\" text-anchor=\"middle\" x=\"951.5\" y=\"-111.8\">class = Не использовать</text>\n</g>\n<!-- 8&#45;&gt;9 -->\n<g class=\"edge\" id=\"edge9\">\n<title>8-&gt;9</title>\n<path d=\"M951.5,-222.8796C951.5,-214.6838 951.5,-205.9891 951.5,-197.5013\" fill=\"none\" stroke=\"#000000\"/>\n<polygon fill=\"#000000\" points=\"955.0001,-197.298 951.5,-187.2981 948.0001,-197.2981 955.0001,-197.298\" stroke=\"#000000\"/>\n</g>\n<!-- 12 -->\n<g class=\"node\" id=\"node13\">\n<title>12</title>\n<polygon fill=\"#5dafea\" points=\"1340.5,-187 1148.5,-187 1148.5,-104 1340.5,-104 1340.5,-187\" stroke=\"#000000\"/>\n<text fill=\"#000000\" font-family=\"Helvetica,sans-Serif\" font-size=\"14.00\" text-anchor=\"middle\" x=\"1244.5\" y=\"-171.8\">symbol_scores_6 &lt;= 0.999</text>\n<text fill=\"#000000\" font-family=\"Helvetica,sans-Serif\" font-size=\"14.00\" text-anchor=\"middle\" x=\"1244.5\" y=\"-156.8\">entropy = 0.621</text>\n<text fill=\"#000000\" font-family=\"Helvetica,sans-Serif\" font-size=\"14.00\" text-anchor=\"middle\" x=\"1244.5\" y=\"-141.8\">samples = 9536</text>\n<text fill=\"#000000\" font-family=\"Helvetica,sans-Serif\" font-size=\"14.00\" text-anchor=\"middle\" x=\"1244.5\" y=\"-126.8\">value = [1475, 8061]</text>\n<text fill=\"#000000\" font-family=\"Helvetica,sans-Serif\" font-size=\"14.00\" text-anchor=\"middle\" x=\"1244.5\" y=\"-111.8\">class = Использовать</text>\n</g>\n<!-- 8&#45;&gt;12 -->\n<g class=\"edge\" id=\"edge12\">\n<title>8-&gt;12</title>\n<path d=\"M1047.845,-225.3701C1076.9677,-213.5421 1109.0977,-200.4928 1138.797,-188.4306\" fill=\"none\" stroke=\"#000000\"/>\n<polygon fill=\"#000000\" points=\"1140.3993,-191.5575 1148.3473,-184.5518 1137.7652,-185.072 1140.3993,-191.5575\" stroke=\"#000000\"/>\n</g>\n<!-- 10 -->\n<g class=\"node\" id=\"node11\">\n<title>10</title>\n<polygon fill=\"#ea9a61\" points=\"957,-68 776,-68 776,0 957,0 957,-68\" stroke=\"#000000\"/>\n<text fill=\"#000000\" font-family=\"Helvetica,sans-Serif\" font-size=\"14.00\" text-anchor=\"middle\" x=\"866.5\" y=\"-52.8\">entropy = 0.651</text>\n<text fill=\"#000000\" font-family=\"Helvetica,sans-Serif\" font-size=\"14.00\" text-anchor=\"middle\" x=\"866.5\" y=\"-37.8\">samples = 1508</text>\n<text fill=\"#000000\" font-family=\"Helvetica,sans-Serif\" font-size=\"14.00\" text-anchor=\"middle\" x=\"866.5\" y=\"-22.8\">value = [1256, 252]</text>\n<text fill=\"#000000\" font-family=\"Helvetica,sans-Serif\" font-size=\"14.00\" text-anchor=\"middle\" x=\"866.5\" y=\"-7.8\">class = Не использовать</text>\n</g>\n<!-- 9&#45;&gt;10 -->\n<g class=\"edge\" id=\"edge10\">\n<title>9-&gt;10</title>\n<path d=\"M919.8491,-103.9815C912.9829,-94.9747 905.7118,-85.4367 898.8202,-76.3965\" fill=\"none\" stroke=\"#000000\"/>\n<polygon fill=\"#000000\" points=\"901.4664,-74.0945 892.6203,-68.2637 895.8995,-78.3383 901.4664,-74.0945\" stroke=\"#000000\"/>\n</g>\n<!-- 11 -->\n<g class=\"node\" id=\"node12\">\n<title>11</title>\n<polygon fill=\"#9dcef2\" points=\"1136,-68 975,-68 975,0 1136,0 1136,-68\" stroke=\"#000000\"/>\n<text fill=\"#000000\" font-family=\"Helvetica,sans-Serif\" font-size=\"14.00\" text-anchor=\"middle\" x=\"1055.5\" y=\"-52.8\">entropy = 0.919</text>\n<text fill=\"#000000\" font-family=\"Helvetica,sans-Serif\" font-size=\"14.00\" text-anchor=\"middle\" x=\"1055.5\" y=\"-37.8\">samples = 1662</text>\n<text fill=\"#000000\" font-family=\"Helvetica,sans-Serif\" font-size=\"14.00\" text-anchor=\"middle\" x=\"1055.5\" y=\"-22.8\">value = [556, 1106]</text>\n<text fill=\"#000000\" font-family=\"Helvetica,sans-Serif\" font-size=\"14.00\" text-anchor=\"middle\" x=\"1055.5\" y=\"-7.8\">class = Использовать</text>\n</g>\n<!-- 9&#45;&gt;11 -->\n<g class=\"edge\" id=\"edge11\">\n<title>9-&gt;11</title>\n<path d=\"M990.2258,-103.9815C998.7982,-94.7908 1007.8865,-85.0472 1016.471,-75.8436\" fill=\"none\" stroke=\"#000000\"/>\n<polygon fill=\"#000000\" points=\"1019.2796,-77.9637 1023.5411,-68.2637 1014.1607,-73.1891 1019.2796,-77.9637\" stroke=\"#000000\"/>\n</g>\n<!-- 13 -->\n<g class=\"node\" id=\"node14\">\n<title>13</title>\n<polygon fill=\"#eca470\" points=\"1335,-68 1154,-68 1154,0 1335,0 1335,-68\" stroke=\"#000000\"/>\n<text fill=\"#000000\" font-family=\"Helvetica,sans-Serif\" font-size=\"14.00\" text-anchor=\"middle\" x=\"1244.5\" y=\"-52.8\">entropy = 0.753</text>\n<text fill=\"#000000\" font-family=\"Helvetica,sans-Serif\" font-size=\"14.00\" text-anchor=\"middle\" x=\"1244.5\" y=\"-37.8\">samples = 356</text>\n<text fill=\"#000000\" font-family=\"Helvetica,sans-Serif\" font-size=\"14.00\" text-anchor=\"middle\" x=\"1244.5\" y=\"-22.8\">value = [279, 77]</text>\n<text fill=\"#000000\" font-family=\"Helvetica,sans-Serif\" font-size=\"14.00\" text-anchor=\"middle\" x=\"1244.5\" y=\"-7.8\">class = Не использовать</text>\n</g>\n<!-- 12&#45;&gt;13 -->\n<g class=\"edge\" id=\"edge13\">\n<title>12-&gt;13</title>\n<path d=\"M1244.5,-103.9815C1244.5,-95.618 1244.5,-86.7965 1244.5,-78.3409\" fill=\"none\" stroke=\"#000000\"/>\n<polygon fill=\"#000000\" points=\"1248.0001,-78.2636 1244.5,-68.2637 1241.0001,-78.2637 1248.0001,-78.2636\" stroke=\"#000000\"/>\n</g>\n<!-- 14 -->\n<g class=\"node\" id=\"node15\">\n<title>14</title>\n<polygon fill=\"#57ace9\" points=\"1514,-68 1353,-68 1353,0 1514,0 1514,-68\" stroke=\"#000000\"/>\n<text fill=\"#000000\" font-family=\"Helvetica,sans-Serif\" font-size=\"14.00\" text-anchor=\"middle\" x=\"1433.5\" y=\"-52.8\">entropy = 0.558</text>\n<text fill=\"#000000\" font-family=\"Helvetica,sans-Serif\" font-size=\"14.00\" text-anchor=\"middle\" x=\"1433.5\" y=\"-37.8\">samples = 9180</text>\n<text fill=\"#000000\" font-family=\"Helvetica,sans-Serif\" font-size=\"14.00\" text-anchor=\"middle\" x=\"1433.5\" y=\"-22.8\">value = [1196, 7984]</text>\n<text fill=\"#000000\" font-family=\"Helvetica,sans-Serif\" font-size=\"14.00\" text-anchor=\"middle\" x=\"1433.5\" y=\"-7.8\">class = Использовать</text>\n</g>\n<!-- 12&#45;&gt;14 -->\n<g class=\"edge\" id=\"edge14\">\n<title>12-&gt;14</title>\n<path d=\"M1314.8766,-103.9815C1331.9469,-93.911 1350.1426,-83.1764 1367.0261,-73.2161\" fill=\"none\" stroke=\"#000000\"/>\n<polygon fill=\"#000000\" points=\"1368.8881,-76.1813 1375.7226,-68.0856 1365.3312,-70.1523 1368.8881,-76.1813\" stroke=\"#000000\"/>\n</g>\n</g>\n</svg>"
          },
          "metadata": {}
        }
      ]
    },
    {
      "cell_type": "markdown",
      "source": [
        "Глубина 3 взята для наглядности, так как при 15 отображается плохо"
      ],
      "metadata": {
        "id": "m_7KoX9vIwrg"
      }
    },
    {
      "cell_type": "code",
      "source": [
        "lr_clf_for_coef = LogisticRegression(random_state=42, max_iter=1000)"
      ],
      "metadata": {
        "id": "hJ65Ya0oIwKE"
      },
      "execution_count": 25,
      "outputs": []
    },
    {
      "cell_type": "code",
      "source": [
        "lr_clf_for_coef.fit(X_for_cv, y_for_cv)"
      ],
      "metadata": {
        "colab": {
          "base_uri": "https://localhost:8080/"
        },
        "id": "ILTjUVz-F4Ha",
        "outputId": "f0b6bff6-1637-4eaa-8cc1-80721f55f884"
      },
      "execution_count": 26,
      "outputs": [
        {
          "output_type": "execute_result",
          "data": {
            "text/plain": [
              "LogisticRegression(max_iter=1000, random_state=42)"
            ]
          },
          "metadata": {},
          "execution_count": 26
        }
      ]
    },
    {
      "cell_type": "markdown",
      "source": [
        "Коэффициенты для symbol_scores"
      ],
      "metadata": {
        "id": "SvxAOCDNJben"
      }
    },
    {
      "cell_type": "code",
      "source": [
        "lr_clf_for_coef.coef_[0][0:10]"
      ],
      "metadata": {
        "colab": {
          "base_uri": "https://localhost:8080/"
        },
        "id": "71M1sqH_I9kB",
        "outputId": "5aa307f2-bbc5-47f1-dde0-4da0a3daef7f"
      },
      "execution_count": 27,
      "outputs": [
        {
          "output_type": "execute_result",
          "data": {
            "text/plain": [
              "array([10.26754576,  7.94153892,  6.39167363,  6.46535048,  7.47603435,\n",
              "        6.81830817,  6.63129087,  3.95435559, 13.64483553,  0.        ])"
            ]
          },
          "metadata": {},
          "execution_count": 27
        }
      ]
    },
    {
      "cell_type": "markdown",
      "source": [
        "Коэффициенты для length_scores"
      ],
      "metadata": {
        "id": "wqeIvU_HJn82"
      }
    },
    {
      "cell_type": "code",
      "source": [
        "lr_clf_for_coef.coef_[0][10:21]"
      ],
      "metadata": {
        "colab": {
          "base_uri": "https://localhost:8080/"
        },
        "id": "eKQ-wpqrI_sI",
        "outputId": "04c42ebb-0c7f-4e53-a2ba-fb6eec62ebfb"
      },
      "execution_count": 28,
      "outputs": [
        {
          "output_type": "execute_result",
          "data": {
            "text/plain": [
              "array([-2.31479286e-04, -2.30936693e-04, -2.31024957e-04, -2.29997118e-04,\n",
              "       -2.31689812e-04, -2.31380726e-04, -2.30980758e-04,  6.02528784e+00,\n",
              "        3.48952829e+00, -9.54835064e+00, -2.29930355e-04])"
            ]
          },
          "metadata": {},
          "execution_count": 28
        }
      ]
    },
    {
      "cell_type": "markdown",
      "source": [
        "По коэффициентам логистической регрессии можно сделать вывод:\n",
        "\n",
        "  1) В коэф. длины наиболее информативные -  7, 8, 9.\n",
        "\n",
        "  2) В коэф. символов наиболее информативные 1 и 9 символы. \n"
      ],
      "metadata": {
        "id": "VsiTccTiJxIr"
      }
    },
    {
      "cell_type": "markdown",
      "source": [
        "### Улучшение модели"
      ],
      "metadata": {
        "id": "HzvgR5-XKjcC"
      }
    },
    {
      "cell_type": "markdown",
      "source": [
        "Что бы улучшить модель добавим в нее дополнительные признаки, и уберем те, которые слабо влияют на результат"
      ],
      "metadata": {
        "id": "81LLdbPTLBgd"
      }
    },
    {
      "cell_type": "markdown",
      "source": [
        "#### Дополнительные признаки"
      ],
      "metadata": {
        "id": "jik-7gjCLJh3"
      }
    },
    {
      "cell_type": "markdown",
      "source": [
        "Используется учет букв входящих в каждый номер, так как скорее всего некоторые буквы алгоритм расспознает хорошо, некоторые не очень"
      ],
      "metadata": {
        "id": "4TyQUyy4LQgu"
      }
    },
    {
      "cell_type": "code",
      "source": [
        "from sklearn.preprocessing import MultiLabelBinarizer"
      ],
      "metadata": {
        "id": "kl4xv0LMJsBx"
      },
      "execution_count": 29,
      "outputs": []
    },
    {
      "cell_type": "code",
      "source": [
        "def split_symbol(x):\n",
        "  split_x =  x.strip(\"[]\").replace('\"', '').split(\",\\s*\")[0]\n",
        "  return split_x"
      ],
      "metadata": {
        "id": "K2pfQ7Y3LaDR"
      },
      "execution_count": 30,
      "outputs": []
    },
    {
      "cell_type": "code",
      "source": [
        "df_split_result[\"symbols\"] = df_split_result.symbols.apply(split_symbol)"
      ],
      "metadata": {
        "id": "aC6fqv2ALblB"
      },
      "execution_count": 31,
      "outputs": []
    },
    {
      "cell_type": "code",
      "source": [
        "mlb = MultiLabelBinarizer(sparse_output=False)\n",
        "\n",
        "df_only_symbols = pd.DataFrame(mlb.fit_transform(df_split_result[\"symbols\"].str.split(\",\\s*\")),\n",
        "                           columns=mlb.classes_,\n",
        "                           index=df_split_result.index)"
      ],
      "metadata": {
        "id": "gdV9RluILeJp"
      },
      "execution_count": 32,
      "outputs": []
    },
    {
      "cell_type": "code",
      "source": [
        "df_only_symbols.head(3)"
      ],
      "metadata": {
        "colab": {
          "base_uri": "https://localhost:8080/",
          "height": 173
        },
        "id": "qpq-NeUpM0WV",
        "outputId": "5f02bae7-4591-4bde-841f-6c6fb208b41e"
      },
      "execution_count": 33,
      "outputs": [
        {
          "output_type": "execute_result",
          "data": {
            "text/plain": [
              "   0  1  2  3  4  5  6  7  8  9  ...  Е  К  М  Н  О  Р  С  Т  У  Х\n",
              "0  0  0  1  0  0  0  0  1  1  0  ...  0  0  1  0  0  0  0  0  0  0\n",
              "1  1  0  0  1  0  0  0  1  0  1  ...  0  1  1  1  0  0  0  0  0  0\n",
              "2  1  1  0  0  0  1  0  1  1  0  ...  0  0  0  0  0  0  1  0  1  0\n",
              "\n",
              "[3 rows x 23 columns]"
            ],
            "text/html": [
              "\n",
              "  <div id=\"df-1f539486-394b-4059-84e5-7bb9bfed61b0\">\n",
              "    <div class=\"colab-df-container\">\n",
              "      <div>\n",
              "<style scoped>\n",
              "    .dataframe tbody tr th:only-of-type {\n",
              "        vertical-align: middle;\n",
              "    }\n",
              "\n",
              "    .dataframe tbody tr th {\n",
              "        vertical-align: top;\n",
              "    }\n",
              "\n",
              "    .dataframe thead th {\n",
              "        text-align: right;\n",
              "    }\n",
              "</style>\n",
              "<table border=\"1\" class=\"dataframe\">\n",
              "  <thead>\n",
              "    <tr style=\"text-align: right;\">\n",
              "      <th></th>\n",
              "      <th>0</th>\n",
              "      <th>1</th>\n",
              "      <th>2</th>\n",
              "      <th>3</th>\n",
              "      <th>4</th>\n",
              "      <th>5</th>\n",
              "      <th>6</th>\n",
              "      <th>7</th>\n",
              "      <th>8</th>\n",
              "      <th>9</th>\n",
              "      <th>...</th>\n",
              "      <th>Е</th>\n",
              "      <th>К</th>\n",
              "      <th>М</th>\n",
              "      <th>Н</th>\n",
              "      <th>О</th>\n",
              "      <th>Р</th>\n",
              "      <th>С</th>\n",
              "      <th>Т</th>\n",
              "      <th>У</th>\n",
              "      <th>Х</th>\n",
              "    </tr>\n",
              "  </thead>\n",
              "  <tbody>\n",
              "    <tr>\n",
              "      <th>0</th>\n",
              "      <td>0</td>\n",
              "      <td>0</td>\n",
              "      <td>1</td>\n",
              "      <td>0</td>\n",
              "      <td>0</td>\n",
              "      <td>0</td>\n",
              "      <td>0</td>\n",
              "      <td>1</td>\n",
              "      <td>1</td>\n",
              "      <td>0</td>\n",
              "      <td>...</td>\n",
              "      <td>0</td>\n",
              "      <td>0</td>\n",
              "      <td>1</td>\n",
              "      <td>0</td>\n",
              "      <td>0</td>\n",
              "      <td>0</td>\n",
              "      <td>0</td>\n",
              "      <td>0</td>\n",
              "      <td>0</td>\n",
              "      <td>0</td>\n",
              "    </tr>\n",
              "    <tr>\n",
              "      <th>1</th>\n",
              "      <td>1</td>\n",
              "      <td>0</td>\n",
              "      <td>0</td>\n",
              "      <td>1</td>\n",
              "      <td>0</td>\n",
              "      <td>0</td>\n",
              "      <td>0</td>\n",
              "      <td>1</td>\n",
              "      <td>0</td>\n",
              "      <td>1</td>\n",
              "      <td>...</td>\n",
              "      <td>0</td>\n",
              "      <td>1</td>\n",
              "      <td>1</td>\n",
              "      <td>1</td>\n",
              "      <td>0</td>\n",
              "      <td>0</td>\n",
              "      <td>0</td>\n",
              "      <td>0</td>\n",
              "      <td>0</td>\n",
              "      <td>0</td>\n",
              "    </tr>\n",
              "    <tr>\n",
              "      <th>2</th>\n",
              "      <td>1</td>\n",
              "      <td>1</td>\n",
              "      <td>0</td>\n",
              "      <td>0</td>\n",
              "      <td>0</td>\n",
              "      <td>1</td>\n",
              "      <td>0</td>\n",
              "      <td>1</td>\n",
              "      <td>1</td>\n",
              "      <td>0</td>\n",
              "      <td>...</td>\n",
              "      <td>0</td>\n",
              "      <td>0</td>\n",
              "      <td>0</td>\n",
              "      <td>0</td>\n",
              "      <td>0</td>\n",
              "      <td>0</td>\n",
              "      <td>1</td>\n",
              "      <td>0</td>\n",
              "      <td>1</td>\n",
              "      <td>0</td>\n",
              "    </tr>\n",
              "  </tbody>\n",
              "</table>\n",
              "<p>3 rows × 23 columns</p>\n",
              "</div>\n",
              "      <button class=\"colab-df-convert\" onclick=\"convertToInteractive('df-1f539486-394b-4059-84e5-7bb9bfed61b0')\"\n",
              "              title=\"Convert this dataframe to an interactive table.\"\n",
              "              style=\"display:none;\">\n",
              "        \n",
              "  <svg xmlns=\"http://www.w3.org/2000/svg\" height=\"24px\"viewBox=\"0 0 24 24\"\n",
              "       width=\"24px\">\n",
              "    <path d=\"M0 0h24v24H0V0z\" fill=\"none\"/>\n",
              "    <path d=\"M18.56 5.44l.94 2.06.94-2.06 2.06-.94-2.06-.94-.94-2.06-.94 2.06-2.06.94zm-11 1L8.5 8.5l.94-2.06 2.06-.94-2.06-.94L8.5 2.5l-.94 2.06-2.06.94zm10 10l.94 2.06.94-2.06 2.06-.94-2.06-.94-.94-2.06-.94 2.06-2.06.94z\"/><path d=\"M17.41 7.96l-1.37-1.37c-.4-.4-.92-.59-1.43-.59-.52 0-1.04.2-1.43.59L10.3 9.45l-7.72 7.72c-.78.78-.78 2.05 0 2.83L4 21.41c.39.39.9.59 1.41.59.51 0 1.02-.2 1.41-.59l7.78-7.78 2.81-2.81c.8-.78.8-2.07 0-2.86zM5.41 20L4 18.59l7.72-7.72 1.47 1.35L5.41 20z\"/>\n",
              "  </svg>\n",
              "      </button>\n",
              "      \n",
              "  <style>\n",
              "    .colab-df-container {\n",
              "      display:flex;\n",
              "      flex-wrap:wrap;\n",
              "      gap: 12px;\n",
              "    }\n",
              "\n",
              "    .colab-df-convert {\n",
              "      background-color: #E8F0FE;\n",
              "      border: none;\n",
              "      border-radius: 50%;\n",
              "      cursor: pointer;\n",
              "      display: none;\n",
              "      fill: #1967D2;\n",
              "      height: 32px;\n",
              "      padding: 0 0 0 0;\n",
              "      width: 32px;\n",
              "    }\n",
              "\n",
              "    .colab-df-convert:hover {\n",
              "      background-color: #E2EBFA;\n",
              "      box-shadow: 0px 1px 2px rgba(60, 64, 67, 0.3), 0px 1px 3px 1px rgba(60, 64, 67, 0.15);\n",
              "      fill: #174EA6;\n",
              "    }\n",
              "\n",
              "    [theme=dark] .colab-df-convert {\n",
              "      background-color: #3B4455;\n",
              "      fill: #D2E3FC;\n",
              "    }\n",
              "\n",
              "    [theme=dark] .colab-df-convert:hover {\n",
              "      background-color: #434B5C;\n",
              "      box-shadow: 0px 1px 3px 1px rgba(0, 0, 0, 0.15);\n",
              "      filter: drop-shadow(0px 1px 2px rgba(0, 0, 0, 0.3));\n",
              "      fill: #FFFFFF;\n",
              "    }\n",
              "  </style>\n",
              "\n",
              "      <script>\n",
              "        const buttonEl =\n",
              "          document.querySelector('#df-1f539486-394b-4059-84e5-7bb9bfed61b0 button.colab-df-convert');\n",
              "        buttonEl.style.display =\n",
              "          google.colab.kernel.accessAllowed ? 'block' : 'none';\n",
              "\n",
              "        async function convertToInteractive(key) {\n",
              "          const element = document.querySelector('#df-1f539486-394b-4059-84e5-7bb9bfed61b0');\n",
              "          const dataTable =\n",
              "            await google.colab.kernel.invokeFunction('convertToInteractive',\n",
              "                                                     [key], {});\n",
              "          if (!dataTable) return;\n",
              "\n",
              "          const docLinkHtml = 'Like what you see? Visit the ' +\n",
              "            '<a target=\"_blank\" href=https://colab.research.google.com/notebooks/data_table.ipynb>data table notebook</a>'\n",
              "            + ' to learn more about interactive tables.';\n",
              "          element.innerHTML = '';\n",
              "          dataTable['output_type'] = 'display_data';\n",
              "          await google.colab.output.renderOutput(dataTable, element);\n",
              "          const docLink = document.createElement('div');\n",
              "          docLink.innerHTML = docLinkHtml;\n",
              "          element.appendChild(docLink);\n",
              "        }\n",
              "      </script>\n",
              "    </div>\n",
              "  </div>\n",
              "  "
            ]
          },
          "metadata": {},
          "execution_count": 33
        }
      ]
    },
    {
      "cell_type": "code",
      "source": [
        "df_only_symbols.columns"
      ],
      "metadata": {
        "colab": {
          "base_uri": "https://localhost:8080/"
        },
        "id": "s681wpPsRuP-",
        "outputId": "185dca24-2b75-46e6-a3b0-fb2470781d31"
      },
      "execution_count": 34,
      "outputs": [
        {
          "output_type": "execute_result",
          "data": {
            "text/plain": [
              "Index(['0', '1', '2', '3', '4', '5', '6', '7', '8', '9', 'D', 'А', 'В', 'Е',\n",
              "       'К', 'М', 'Н', 'О', 'Р', 'С', 'Т', 'У', 'Х'],\n",
              "      dtype='object')"
            ]
          },
          "metadata": {},
          "execution_count": 34
        }
      ]
    },
    {
      "cell_type": "code",
      "source": [
        "X_for_result_model = pd.concat([X_for_cv, df_only_symbols], axis=1)"
      ],
      "metadata": {
        "id": "erKrDi03MSFx"
      },
      "execution_count": 35,
      "outputs": []
    },
    {
      "cell_type": "markdown",
      "source": [
        "#### Итоговая модель"
      ],
      "metadata": {
        "id": "LefMf7ClM86h"
      }
    },
    {
      "cell_type": "markdown",
      "source": [
        "Убираются коэффициенты которые показали малый вес на логистической регрессии"
      ],
      "metadata": {
        "id": "XuqfrQF_OaP3"
      }
    },
    {
      "cell_type": "code",
      "source": [
        "X_for_result_model.drop(columns = [\"length_scores_0\", \"length_scores_1\", \"length_scores_2\", \"length_scores_3\", \"length_scores_4\", \"length_scores_5\", \"length_scores_6\",\"length_scores_10\"], axis = 1, inplace = True)"
      ],
      "metadata": {
        "id": "gJ_X7SjFOADI"
      },
      "execution_count": 36,
      "outputs": []
    },
    {
      "cell_type": "code",
      "source": [
        "X_for_result_model.head()"
      ],
      "metadata": {
        "colab": {
          "base_uri": "https://localhost:8080/",
          "height": 300
        },
        "id": "p6zcXOLDYfX1",
        "outputId": "f0772599-e94c-46de-ef90-7775120bebcd"
      },
      "execution_count": 37,
      "outputs": [
        {
          "output_type": "execute_result",
          "data": {
            "text/plain": [
              "   symbol_scores_1  symbol_scores_2  symbol_scores_3  symbol_scores_4  \\\n",
              "0         0.999782         0.999895         0.999890         0.999968   \n",
              "1         0.999679         0.999889         0.999945         0.999968   \n",
              "2         0.999875         0.999929         0.999924         0.999895   \n",
              "3         0.999919         0.999942         0.999929         0.999969   \n",
              "4         0.994265         0.999911         0.999550         0.999770   \n",
              "\n",
              "   symbol_scores_5  symbol_scores_6  symbol_scores_7  symbol_scores_8  \\\n",
              "0         0.999754         0.999676         0.999994         0.999968   \n",
              "1         0.999813         0.999835         0.999760         0.999530   \n",
              "2         0.999770         0.999627         0.999886         0.999754   \n",
              "3         0.999956         0.999912         0.999996         0.999985   \n",
              "4         0.999887         0.999640         0.999091         0.999119   \n",
              "\n",
              "   symbol_scores_9  symbol_scores_10  ...  Е  К  М  Н  О  Р  С  Т  У  Х  \n",
              "0         0.999943               0.0  ...  0  0  1  0  0  0  0  0  0  0  \n",
              "1         0.999959               0.0  ...  0  1  1  1  0  0  0  0  0  0  \n",
              "2         0.999882               0.0  ...  0  0  0  0  0  0  1  0  1  0  \n",
              "3         0.999927               0.0  ...  0  0  0  1  1  0  0  0  0  0  \n",
              "4         0.000000               0.0  ...  1  0  1  0  1  0  0  0  0  0  \n",
              "\n",
              "[5 rows x 36 columns]"
            ],
            "text/html": [
              "\n",
              "  <div id=\"df-6c206ea5-a963-440c-8bc7-81f212d64ca0\">\n",
              "    <div class=\"colab-df-container\">\n",
              "      <div>\n",
              "<style scoped>\n",
              "    .dataframe tbody tr th:only-of-type {\n",
              "        vertical-align: middle;\n",
              "    }\n",
              "\n",
              "    .dataframe tbody tr th {\n",
              "        vertical-align: top;\n",
              "    }\n",
              "\n",
              "    .dataframe thead th {\n",
              "        text-align: right;\n",
              "    }\n",
              "</style>\n",
              "<table border=\"1\" class=\"dataframe\">\n",
              "  <thead>\n",
              "    <tr style=\"text-align: right;\">\n",
              "      <th></th>\n",
              "      <th>symbol_scores_1</th>\n",
              "      <th>symbol_scores_2</th>\n",
              "      <th>symbol_scores_3</th>\n",
              "      <th>symbol_scores_4</th>\n",
              "      <th>symbol_scores_5</th>\n",
              "      <th>symbol_scores_6</th>\n",
              "      <th>symbol_scores_7</th>\n",
              "      <th>symbol_scores_8</th>\n",
              "      <th>symbol_scores_9</th>\n",
              "      <th>symbol_scores_10</th>\n",
              "      <th>...</th>\n",
              "      <th>Е</th>\n",
              "      <th>К</th>\n",
              "      <th>М</th>\n",
              "      <th>Н</th>\n",
              "      <th>О</th>\n",
              "      <th>Р</th>\n",
              "      <th>С</th>\n",
              "      <th>Т</th>\n",
              "      <th>У</th>\n",
              "      <th>Х</th>\n",
              "    </tr>\n",
              "  </thead>\n",
              "  <tbody>\n",
              "    <tr>\n",
              "      <th>0</th>\n",
              "      <td>0.999782</td>\n",
              "      <td>0.999895</td>\n",
              "      <td>0.999890</td>\n",
              "      <td>0.999968</td>\n",
              "      <td>0.999754</td>\n",
              "      <td>0.999676</td>\n",
              "      <td>0.999994</td>\n",
              "      <td>0.999968</td>\n",
              "      <td>0.999943</td>\n",
              "      <td>0.0</td>\n",
              "      <td>...</td>\n",
              "      <td>0</td>\n",
              "      <td>0</td>\n",
              "      <td>1</td>\n",
              "      <td>0</td>\n",
              "      <td>0</td>\n",
              "      <td>0</td>\n",
              "      <td>0</td>\n",
              "      <td>0</td>\n",
              "      <td>0</td>\n",
              "      <td>0</td>\n",
              "    </tr>\n",
              "    <tr>\n",
              "      <th>1</th>\n",
              "      <td>0.999679</td>\n",
              "      <td>0.999889</td>\n",
              "      <td>0.999945</td>\n",
              "      <td>0.999968</td>\n",
              "      <td>0.999813</td>\n",
              "      <td>0.999835</td>\n",
              "      <td>0.999760</td>\n",
              "      <td>0.999530</td>\n",
              "      <td>0.999959</td>\n",
              "      <td>0.0</td>\n",
              "      <td>...</td>\n",
              "      <td>0</td>\n",
              "      <td>1</td>\n",
              "      <td>1</td>\n",
              "      <td>1</td>\n",
              "      <td>0</td>\n",
              "      <td>0</td>\n",
              "      <td>0</td>\n",
              "      <td>0</td>\n",
              "      <td>0</td>\n",
              "      <td>0</td>\n",
              "    </tr>\n",
              "    <tr>\n",
              "      <th>2</th>\n",
              "      <td>0.999875</td>\n",
              "      <td>0.999929</td>\n",
              "      <td>0.999924</td>\n",
              "      <td>0.999895</td>\n",
              "      <td>0.999770</td>\n",
              "      <td>0.999627</td>\n",
              "      <td>0.999886</td>\n",
              "      <td>0.999754</td>\n",
              "      <td>0.999882</td>\n",
              "      <td>0.0</td>\n",
              "      <td>...</td>\n",
              "      <td>0</td>\n",
              "      <td>0</td>\n",
              "      <td>0</td>\n",
              "      <td>0</td>\n",
              "      <td>0</td>\n",
              "      <td>0</td>\n",
              "      <td>1</td>\n",
              "      <td>0</td>\n",
              "      <td>1</td>\n",
              "      <td>0</td>\n",
              "    </tr>\n",
              "    <tr>\n",
              "      <th>3</th>\n",
              "      <td>0.999919</td>\n",
              "      <td>0.999942</td>\n",
              "      <td>0.999929</td>\n",
              "      <td>0.999969</td>\n",
              "      <td>0.999956</td>\n",
              "      <td>0.999912</td>\n",
              "      <td>0.999996</td>\n",
              "      <td>0.999985</td>\n",
              "      <td>0.999927</td>\n",
              "      <td>0.0</td>\n",
              "      <td>...</td>\n",
              "      <td>0</td>\n",
              "      <td>0</td>\n",
              "      <td>0</td>\n",
              "      <td>1</td>\n",
              "      <td>1</td>\n",
              "      <td>0</td>\n",
              "      <td>0</td>\n",
              "      <td>0</td>\n",
              "      <td>0</td>\n",
              "      <td>0</td>\n",
              "    </tr>\n",
              "    <tr>\n",
              "      <th>4</th>\n",
              "      <td>0.994265</td>\n",
              "      <td>0.999911</td>\n",
              "      <td>0.999550</td>\n",
              "      <td>0.999770</td>\n",
              "      <td>0.999887</td>\n",
              "      <td>0.999640</td>\n",
              "      <td>0.999091</td>\n",
              "      <td>0.999119</td>\n",
              "      <td>0.000000</td>\n",
              "      <td>0.0</td>\n",
              "      <td>...</td>\n",
              "      <td>1</td>\n",
              "      <td>0</td>\n",
              "      <td>1</td>\n",
              "      <td>0</td>\n",
              "      <td>1</td>\n",
              "      <td>0</td>\n",
              "      <td>0</td>\n",
              "      <td>0</td>\n",
              "      <td>0</td>\n",
              "      <td>0</td>\n",
              "    </tr>\n",
              "  </tbody>\n",
              "</table>\n",
              "<p>5 rows × 36 columns</p>\n",
              "</div>\n",
              "      <button class=\"colab-df-convert\" onclick=\"convertToInteractive('df-6c206ea5-a963-440c-8bc7-81f212d64ca0')\"\n",
              "              title=\"Convert this dataframe to an interactive table.\"\n",
              "              style=\"display:none;\">\n",
              "        \n",
              "  <svg xmlns=\"http://www.w3.org/2000/svg\" height=\"24px\"viewBox=\"0 0 24 24\"\n",
              "       width=\"24px\">\n",
              "    <path d=\"M0 0h24v24H0V0z\" fill=\"none\"/>\n",
              "    <path d=\"M18.56 5.44l.94 2.06.94-2.06 2.06-.94-2.06-.94-.94-2.06-.94 2.06-2.06.94zm-11 1L8.5 8.5l.94-2.06 2.06-.94-2.06-.94L8.5 2.5l-.94 2.06-2.06.94zm10 10l.94 2.06.94-2.06 2.06-.94-2.06-.94-.94-2.06-.94 2.06-2.06.94z\"/><path d=\"M17.41 7.96l-1.37-1.37c-.4-.4-.92-.59-1.43-.59-.52 0-1.04.2-1.43.59L10.3 9.45l-7.72 7.72c-.78.78-.78 2.05 0 2.83L4 21.41c.39.39.9.59 1.41.59.51 0 1.02-.2 1.41-.59l7.78-7.78 2.81-2.81c.8-.78.8-2.07 0-2.86zM5.41 20L4 18.59l7.72-7.72 1.47 1.35L5.41 20z\"/>\n",
              "  </svg>\n",
              "      </button>\n",
              "      \n",
              "  <style>\n",
              "    .colab-df-container {\n",
              "      display:flex;\n",
              "      flex-wrap:wrap;\n",
              "      gap: 12px;\n",
              "    }\n",
              "\n",
              "    .colab-df-convert {\n",
              "      background-color: #E8F0FE;\n",
              "      border: none;\n",
              "      border-radius: 50%;\n",
              "      cursor: pointer;\n",
              "      display: none;\n",
              "      fill: #1967D2;\n",
              "      height: 32px;\n",
              "      padding: 0 0 0 0;\n",
              "      width: 32px;\n",
              "    }\n",
              "\n",
              "    .colab-df-convert:hover {\n",
              "      background-color: #E2EBFA;\n",
              "      box-shadow: 0px 1px 2px rgba(60, 64, 67, 0.3), 0px 1px 3px 1px rgba(60, 64, 67, 0.15);\n",
              "      fill: #174EA6;\n",
              "    }\n",
              "\n",
              "    [theme=dark] .colab-df-convert {\n",
              "      background-color: #3B4455;\n",
              "      fill: #D2E3FC;\n",
              "    }\n",
              "\n",
              "    [theme=dark] .colab-df-convert:hover {\n",
              "      background-color: #434B5C;\n",
              "      box-shadow: 0px 1px 3px 1px rgba(0, 0, 0, 0.15);\n",
              "      filter: drop-shadow(0px 1px 2px rgba(0, 0, 0, 0.3));\n",
              "      fill: #FFFFFF;\n",
              "    }\n",
              "  </style>\n",
              "\n",
              "      <script>\n",
              "        const buttonEl =\n",
              "          document.querySelector('#df-6c206ea5-a963-440c-8bc7-81f212d64ca0 button.colab-df-convert');\n",
              "        buttonEl.style.display =\n",
              "          google.colab.kernel.accessAllowed ? 'block' : 'none';\n",
              "\n",
              "        async function convertToInteractive(key) {\n",
              "          const element = document.querySelector('#df-6c206ea5-a963-440c-8bc7-81f212d64ca0');\n",
              "          const dataTable =\n",
              "            await google.colab.kernel.invokeFunction('convertToInteractive',\n",
              "                                                     [key], {});\n",
              "          if (!dataTable) return;\n",
              "\n",
              "          const docLinkHtml = 'Like what you see? Visit the ' +\n",
              "            '<a target=\"_blank\" href=https://colab.research.google.com/notebooks/data_table.ipynb>data table notebook</a>'\n",
              "            + ' to learn more about interactive tables.';\n",
              "          element.innerHTML = '';\n",
              "          dataTable['output_type'] = 'display_data';\n",
              "          await google.colab.output.renderOutput(dataTable, element);\n",
              "          const docLink = document.createElement('div');\n",
              "          docLink.innerHTML = docLinkHtml;\n",
              "          element.appendChild(docLink);\n",
              "        }\n",
              "      </script>\n",
              "    </div>\n",
              "  </div>\n",
              "  "
            ]
          },
          "metadata": {},
          "execution_count": 37
        }
      ]
    },
    {
      "cell_type": "markdown",
      "source": [
        "Используются модели, показавшие лучший результат на прошлом этапе"
      ],
      "metadata": {
        "id": "bbuG7myxPiKt"
      }
    },
    {
      "cell_type": "code",
      "source": [
        "rf_clf = RandomForestClassifier(random_state = 42, max_depth = 15)"
      ],
      "metadata": {
        "id": "pQo_jF5GPdzI"
      },
      "execution_count": 38,
      "outputs": []
    },
    {
      "cell_type": "code",
      "source": [
        "dt_clf = DecisionTreeClassifier(random_state = 42, max_depth = 15)"
      ],
      "metadata": {
        "id": "MH-XFZnlR3Gf"
      },
      "execution_count": 39,
      "outputs": []
    },
    {
      "cell_type": "code",
      "source": [
        "cross_val_score(rf_clf,\n",
        "                X_for_result_model,\n",
        "                y_for_cv,\n",
        "                cv=5,\n",
        "                scoring = \"precision\").mean()"
      ],
      "metadata": {
        "colab": {
          "base_uri": "https://localhost:8080/"
        },
        "id": "GBkx75_VR6VX",
        "outputId": "e77d2971-b96f-41f2-d69a-61545915be69"
      },
      "execution_count": 40,
      "outputs": [
        {
          "output_type": "execute_result",
          "data": {
            "text/plain": [
              "0.8903421457631359"
            ]
          },
          "metadata": {},
          "execution_count": 40
        }
      ]
    },
    {
      "cell_type": "code",
      "source": [
        "cross_val_score(dt_clf,\n",
        "                X_for_result_model,\n",
        "                y_for_cv,\n",
        "                cv=5,\n",
        "                scoring = \"precision\").mean()"
      ],
      "metadata": {
        "colab": {
          "base_uri": "https://localhost:8080/"
        },
        "id": "h0hBM0JZR8t3",
        "outputId": "0d458e16-8887-438a-81a9-7e728e0879b2"
      },
      "execution_count": 41,
      "outputs": [
        {
          "output_type": "execute_result",
          "data": {
            "text/plain": [
              "0.8748173440262184"
            ]
          },
          "metadata": {},
          "execution_count": 41
        }
      ]
    },
    {
      "cell_type": "markdown",
      "source": [
        "Алгоритм случайного леса показывает лучший результат (0.89), поэтому он будет использоваться для итогового предсказания"
      ],
      "metadata": {
        "id": "GIu5lTXmjHz1"
      }
    },
    {
      "cell_type": "code",
      "source": [
        "rf_clf.fit(X_for_result_model,y_for_cv)"
      ],
      "metadata": {
        "colab": {
          "base_uri": "https://localhost:8080/"
        },
        "id": "leQejS6sY_CN",
        "outputId": "e05b31a1-920c-4b05-f77c-a391caf717c8"
      },
      "execution_count": 42,
      "outputs": [
        {
          "output_type": "execute_result",
          "data": {
            "text/plain": [
              "RandomForestClassifier(max_depth=15, random_state=42)"
            ]
          },
          "metadata": {},
          "execution_count": 42
        }
      ]
    },
    {
      "cell_type": "markdown",
      "source": [
        "### Проверка улучшения работы "
      ],
      "metadata": {
        "id": "n0XZ_U8EVLhL"
      }
    },
    {
      "cell_type": "markdown",
      "source": [
        "Что бы проверить улучшится ли результат при применении модели, необходимо применить обученную модель для всех данных."
      ],
      "metadata": {
        "id": "E1i5Ln0Fja0P"
      }
    },
    {
      "cell_type": "markdown",
      "source": [
        "Кол-во записей всего:"
      ],
      "metadata": {
        "id": "wOooUyD1kba6"
      }
    },
    {
      "cell_type": "code",
      "source": [
        "df.shape[0]"
      ],
      "metadata": {
        "colab": {
          "base_uri": "https://localhost:8080/"
        },
        "id": "y8KgaRTlkZIx",
        "outputId": "64528e77-6e62-4b8e-80e9-50a4fa2999a7"
      },
      "execution_count": 43,
      "outputs": [
        {
          "output_type": "execute_result",
          "data": {
            "text/plain": [
              "194214"
            ]
          },
          "metadata": {},
          "execution_count": 43
        }
      ]
    },
    {
      "cell_type": "markdown",
      "source": [
        "Записи, в которых изначально камера распознала верно"
      ],
      "metadata": {
        "id": "_7fQ2Wyzj3MH"
      }
    },
    {
      "cell_type": "code",
      "source": [
        "df[(df.regno_recognize == df.regno)].shape[0]"
      ],
      "metadata": {
        "colab": {
          "base_uri": "https://localhost:8080/"
        },
        "id": "xL9N1ur6VAJ6",
        "outputId": "41050b95-4fe8-456d-8358-37140e1548fe"
      },
      "execution_count": 44,
      "outputs": [
        {
          "output_type": "execute_result",
          "data": {
            "text/plain": [
              "183103"
            ]
          },
          "metadata": {},
          "execution_count": 44
        }
      ]
    },
    {
      "cell_type": "markdown",
      "source": [
        "Записи,  в которых изначально оказался верен новый алгоритм"
      ],
      "metadata": {
        "id": "V1NEJ1lKkzg7"
      }
    },
    {
      "cell_type": "code",
      "source": [
        "df[(df.regno_ai == df.regno)].shape[0]"
      ],
      "metadata": {
        "colab": {
          "base_uri": "https://localhost:8080/"
        },
        "id": "6-gfU398VxmW",
        "outputId": "de75ac51-7363-40c3-9b3c-f67aadacdfbb"
      },
      "execution_count": 45,
      "outputs": [
        {
          "output_type": "execute_result",
          "data": {
            "text/plain": [
              "176351"
            ]
          },
          "metadata": {},
          "execution_count": 45
        }
      ]
    },
    {
      "cell_type": "markdown",
      "source": [
        "Следовательно, всегда новый алгоритм применять невыгодно, поэтому сформировано решающее правило на основе деревьев решений, в каких случаях использовать новый алгоритм, а вкаких нет."
      ],
      "metadata": {
        "id": "qFEuBZ2gk5Nb"
      }
    },
    {
      "cell_type": "markdown",
      "source": [
        "Что бы использовать разработанную модель(решающее правило), преобразуем данные для входа в модель."
      ],
      "metadata": {
        "id": "gq2dYl9PlIKe"
      }
    },
    {
      "cell_type": "code",
      "source": [
        "df_for_test = df.copy()"
      ],
      "metadata": {
        "id": "VIBGdypiWDvJ"
      },
      "execution_count": 46,
      "outputs": []
    },
    {
      "cell_type": "code",
      "source": [
        "df_for_test[\"symbol_scores\"] = df_for_test.symbol_scores.apply(split_scores)\n",
        "df_for_test[symbol_scores] = df_for_test.symbol_scores.values.tolist()\n",
        "df_for_test[\"length_scores\"] = df_for_test.length_scores.apply(split_length)\n",
        "df_for_test[length_scores] = df_for_test.length_scores.values.tolist()"
      ],
      "metadata": {
        "id": "z3xw68MpVdMZ"
      },
      "execution_count": 47,
      "outputs": []
    },
    {
      "cell_type": "code",
      "source": [
        "df_for_test[\"symbols\"] = df_for_test.symbols.apply(split_symbol)\n",
        "mlb = MultiLabelBinarizer(sparse_output=False)\n",
        "\n",
        "df_only_symbols_for_test = pd.DataFrame(mlb.fit_transform(df_for_test[\"symbols\"].str.split(\",\\s*\")),\n",
        "                           columns=mlb.classes_,\n",
        "                           index=df_for_test.index)"
      ],
      "metadata": {
        "id": "2MnAskvTWqzc"
      },
      "execution_count": 48,
      "outputs": []
    },
    {
      "cell_type": "code",
      "source": [
        "X_for_test = pd.concat([df_for_test, df_only_symbols_for_test], axis=1)\n",
        "X_for_test.drop(columns = [\"id\",\n",
        "                           \"camera_id\",\n",
        "                           \"time_check\",\n",
        "                           \"regno_recognize\",\n",
        "                           \"regno_ai\",\n",
        "                           \"regno\",\n",
        "                           \"result_code\",\n",
        "                           \"symbols\",\n",
        "                           \"symbol_scores\",\n",
        "                           \"length_scores\",\n",
        "                           \"length_scores_0\",\n",
        "                           \"length_scores_1\", \n",
        "                           \"length_scores_2\", \n",
        "                           \"length_scores_3\", \n",
        "                           \"length_scores_4\", \n",
        "                           \"length_scores_5\", \n",
        "                           \"length_scores_6\",\n",
        "                           \"length_scores_10\",], axis = 1, inplace = True)"
      ],
      "metadata": {
        "id": "fegFfpkOWcZp"
      },
      "execution_count": 49,
      "outputs": []
    },
    {
      "cell_type": "markdown",
      "source": [
        "Теперь данные можно подать в модель, чтобы она решила, когда применять новый алгоритм(число 1), а когда нет (число 0)"
      ],
      "metadata": {
        "id": "j_XE-DOZlaku"
      }
    },
    {
      "cell_type": "code",
      "source": [
        "use_new_alg =  rf_clf.predict(X_for_test)"
      ],
      "metadata": {
        "id": "AwESdR7PY68e"
      },
      "execution_count": 50,
      "outputs": []
    },
    {
      "cell_type": "code",
      "source": [
        "use_new_alg"
      ],
      "metadata": {
        "colab": {
          "base_uri": "https://localhost:8080/"
        },
        "id": "XwhJELKglqiN",
        "outputId": "a756ac5f-a988-4699-8c44-b14b019b2e5c"
      },
      "execution_count": 51,
      "outputs": [
        {
          "output_type": "execute_result",
          "data": {
            "text/plain": [
              "array([1, 1, 1, ..., 1, 1, 1])"
            ]
          },
          "metadata": {},
          "execution_count": 51
        }
      ]
    },
    {
      "cell_type": "markdown",
      "source": [
        "Получился вектор из 0 и 1 \n",
        "\n",
        "1 - нужно использовать новый алгоритма\n",
        "\n",
        "0 - не нужно использовать"
      ],
      "metadata": {
        "id": "EKGvyIdUlsmk"
      }
    },
    {
      "cell_type": "markdown",
      "source": [
        "Соединим этот вектор с исходной таблицей для подсчета результатов"
      ],
      "metadata": {
        "id": "pRXMz989l4Po"
      }
    },
    {
      "cell_type": "code",
      "source": [
        "df_new = pd.concat([df.copy(), pd.Series(use_new_alg,name='Use_alg')], axis = 1)"
      ],
      "metadata": {
        "id": "-gVc0nFJZgy6"
      },
      "execution_count": 52,
      "outputs": []
    },
    {
      "cell_type": "code",
      "source": [
        "df_new.head()"
      ],
      "metadata": {
        "colab": {
          "base_uri": "https://localhost:8080/",
          "height": 337
        },
        "id": "sazsmkBWl-oq",
        "outputId": "316b809d-2d23-444a-c0a4-2f15eda5393d"
      },
      "execution_count": 53,
      "outputs": [
        {
          "output_type": "execute_result",
          "data": {
            "text/plain": [
              "   id  camera_id time_check regno_recognize   regno_ai      regno  \\\n",
              "0   1        844   00:00:00       У991КВ799  У991КВ799  У991КВ799   \n",
              "1   2       2516   00:00:00       О019УК177  О019УК177  О019УК177   \n",
              "2   3       2476   00:00:00       Е175АК150  Е175АК150  Е175АК150   \n",
              "3   4       1251   00:00:01       Т359ОН799  Т359ОН799  Т359ОН799   \n",
              "4   5       2516   00:00:01       В521СУ750  В521СУ750  В521СУ750   \n",
              "\n",
              "   result_code                                        symbols  \\\n",
              "0            0  [\"У\", \"9\", \"9\", \"1\", \"К\", \"В\", \"7\", \"9\", \"9\"]   \n",
              "1            0  [\"О\", \"0\", \"1\", \"9\", \"У\", \"К\", \"1\", \"7\", \"7\"]   \n",
              "2            0  [\"Е\", \"1\", \"7\", \"5\", \"А\", \"К\", \"1\", \"5\", \"0\"]   \n",
              "3            0  [\"Т\", \"3\", \"5\", \"9\", \"О\", \"Н\", \"7\", \"9\", \"9\"]   \n",
              "4            0  [\"В\", \"5\", \"2\", \"1\", \"С\", \"У\", \"7\", \"5\", \"0\"]   \n",
              "\n",
              "                                       symbol_scores  \\\n",
              "0  [0.9999366998672485, 0.9999223947525024, 0.999...   \n",
              "1  [0.9998993873596191, 0.999862790107727, 0.9999...   \n",
              "2  [0.9997256398200989, 0.9999269247055054, 0.999...   \n",
              "3  [0.9998781681060791, 0.9998764991760254, 0.999...   \n",
              "4  [0.999920129776001, 0.9999333620071411, 0.9999...   \n",
              "\n",
              "                                       length_scores  Use_alg  \n",
              "0  [0.000000034831597162110484, 0.000000034835451...        1  \n",
              "1  [0.0000000068477667980459955, 0.00000000683332...        1  \n",
              "2  [0.000000002039653557162069, 0.000000002043387...        1  \n",
              "3  [0.00000002880540606042814, 0.0000000289985120...        1  \n",
              "4  [0.000000009300508807541519, 0.000000009201486...        1  "
            ],
            "text/html": [
              "\n",
              "  <div id=\"df-e36edae7-6c93-4711-8056-c065b0e9e8f8\">\n",
              "    <div class=\"colab-df-container\">\n",
              "      <div>\n",
              "<style scoped>\n",
              "    .dataframe tbody tr th:only-of-type {\n",
              "        vertical-align: middle;\n",
              "    }\n",
              "\n",
              "    .dataframe tbody tr th {\n",
              "        vertical-align: top;\n",
              "    }\n",
              "\n",
              "    .dataframe thead th {\n",
              "        text-align: right;\n",
              "    }\n",
              "</style>\n",
              "<table border=\"1\" class=\"dataframe\">\n",
              "  <thead>\n",
              "    <tr style=\"text-align: right;\">\n",
              "      <th></th>\n",
              "      <th>id</th>\n",
              "      <th>camera_id</th>\n",
              "      <th>time_check</th>\n",
              "      <th>regno_recognize</th>\n",
              "      <th>regno_ai</th>\n",
              "      <th>regno</th>\n",
              "      <th>result_code</th>\n",
              "      <th>symbols</th>\n",
              "      <th>symbol_scores</th>\n",
              "      <th>length_scores</th>\n",
              "      <th>Use_alg</th>\n",
              "    </tr>\n",
              "  </thead>\n",
              "  <tbody>\n",
              "    <tr>\n",
              "      <th>0</th>\n",
              "      <td>1</td>\n",
              "      <td>844</td>\n",
              "      <td>00:00:00</td>\n",
              "      <td>У991КВ799</td>\n",
              "      <td>У991КВ799</td>\n",
              "      <td>У991КВ799</td>\n",
              "      <td>0</td>\n",
              "      <td>[\"У\", \"9\", \"9\", \"1\", \"К\", \"В\", \"7\", \"9\", \"9\"]</td>\n",
              "      <td>[0.9999366998672485, 0.9999223947525024, 0.999...</td>\n",
              "      <td>[0.000000034831597162110484, 0.000000034835451...</td>\n",
              "      <td>1</td>\n",
              "    </tr>\n",
              "    <tr>\n",
              "      <th>1</th>\n",
              "      <td>2</td>\n",
              "      <td>2516</td>\n",
              "      <td>00:00:00</td>\n",
              "      <td>О019УК177</td>\n",
              "      <td>О019УК177</td>\n",
              "      <td>О019УК177</td>\n",
              "      <td>0</td>\n",
              "      <td>[\"О\", \"0\", \"1\", \"9\", \"У\", \"К\", \"1\", \"7\", \"7\"]</td>\n",
              "      <td>[0.9998993873596191, 0.999862790107727, 0.9999...</td>\n",
              "      <td>[0.0000000068477667980459955, 0.00000000683332...</td>\n",
              "      <td>1</td>\n",
              "    </tr>\n",
              "    <tr>\n",
              "      <th>2</th>\n",
              "      <td>3</td>\n",
              "      <td>2476</td>\n",
              "      <td>00:00:00</td>\n",
              "      <td>Е175АК150</td>\n",
              "      <td>Е175АК150</td>\n",
              "      <td>Е175АК150</td>\n",
              "      <td>0</td>\n",
              "      <td>[\"Е\", \"1\", \"7\", \"5\", \"А\", \"К\", \"1\", \"5\", \"0\"]</td>\n",
              "      <td>[0.9997256398200989, 0.9999269247055054, 0.999...</td>\n",
              "      <td>[0.000000002039653557162069, 0.000000002043387...</td>\n",
              "      <td>1</td>\n",
              "    </tr>\n",
              "    <tr>\n",
              "      <th>3</th>\n",
              "      <td>4</td>\n",
              "      <td>1251</td>\n",
              "      <td>00:00:01</td>\n",
              "      <td>Т359ОН799</td>\n",
              "      <td>Т359ОН799</td>\n",
              "      <td>Т359ОН799</td>\n",
              "      <td>0</td>\n",
              "      <td>[\"Т\", \"3\", \"5\", \"9\", \"О\", \"Н\", \"7\", \"9\", \"9\"]</td>\n",
              "      <td>[0.9998781681060791, 0.9998764991760254, 0.999...</td>\n",
              "      <td>[0.00000002880540606042814, 0.0000000289985120...</td>\n",
              "      <td>1</td>\n",
              "    </tr>\n",
              "    <tr>\n",
              "      <th>4</th>\n",
              "      <td>5</td>\n",
              "      <td>2516</td>\n",
              "      <td>00:00:01</td>\n",
              "      <td>В521СУ750</td>\n",
              "      <td>В521СУ750</td>\n",
              "      <td>В521СУ750</td>\n",
              "      <td>0</td>\n",
              "      <td>[\"В\", \"5\", \"2\", \"1\", \"С\", \"У\", \"7\", \"5\", \"0\"]</td>\n",
              "      <td>[0.999920129776001, 0.9999333620071411, 0.9999...</td>\n",
              "      <td>[0.000000009300508807541519, 0.000000009201486...</td>\n",
              "      <td>1</td>\n",
              "    </tr>\n",
              "  </tbody>\n",
              "</table>\n",
              "</div>\n",
              "      <button class=\"colab-df-convert\" onclick=\"convertToInteractive('df-e36edae7-6c93-4711-8056-c065b0e9e8f8')\"\n",
              "              title=\"Convert this dataframe to an interactive table.\"\n",
              "              style=\"display:none;\">\n",
              "        \n",
              "  <svg xmlns=\"http://www.w3.org/2000/svg\" height=\"24px\"viewBox=\"0 0 24 24\"\n",
              "       width=\"24px\">\n",
              "    <path d=\"M0 0h24v24H0V0z\" fill=\"none\"/>\n",
              "    <path d=\"M18.56 5.44l.94 2.06.94-2.06 2.06-.94-2.06-.94-.94-2.06-.94 2.06-2.06.94zm-11 1L8.5 8.5l.94-2.06 2.06-.94-2.06-.94L8.5 2.5l-.94 2.06-2.06.94zm10 10l.94 2.06.94-2.06 2.06-.94-2.06-.94-.94-2.06-.94 2.06-2.06.94z\"/><path d=\"M17.41 7.96l-1.37-1.37c-.4-.4-.92-.59-1.43-.59-.52 0-1.04.2-1.43.59L10.3 9.45l-7.72 7.72c-.78.78-.78 2.05 0 2.83L4 21.41c.39.39.9.59 1.41.59.51 0 1.02-.2 1.41-.59l7.78-7.78 2.81-2.81c.8-.78.8-2.07 0-2.86zM5.41 20L4 18.59l7.72-7.72 1.47 1.35L5.41 20z\"/>\n",
              "  </svg>\n",
              "      </button>\n",
              "      \n",
              "  <style>\n",
              "    .colab-df-container {\n",
              "      display:flex;\n",
              "      flex-wrap:wrap;\n",
              "      gap: 12px;\n",
              "    }\n",
              "\n",
              "    .colab-df-convert {\n",
              "      background-color: #E8F0FE;\n",
              "      border: none;\n",
              "      border-radius: 50%;\n",
              "      cursor: pointer;\n",
              "      display: none;\n",
              "      fill: #1967D2;\n",
              "      height: 32px;\n",
              "      padding: 0 0 0 0;\n",
              "      width: 32px;\n",
              "    }\n",
              "\n",
              "    .colab-df-convert:hover {\n",
              "      background-color: #E2EBFA;\n",
              "      box-shadow: 0px 1px 2px rgba(60, 64, 67, 0.3), 0px 1px 3px 1px rgba(60, 64, 67, 0.15);\n",
              "      fill: #174EA6;\n",
              "    }\n",
              "\n",
              "    [theme=dark] .colab-df-convert {\n",
              "      background-color: #3B4455;\n",
              "      fill: #D2E3FC;\n",
              "    }\n",
              "\n",
              "    [theme=dark] .colab-df-convert:hover {\n",
              "      background-color: #434B5C;\n",
              "      box-shadow: 0px 1px 3px 1px rgba(0, 0, 0, 0.15);\n",
              "      filter: drop-shadow(0px 1px 2px rgba(0, 0, 0, 0.3));\n",
              "      fill: #FFFFFF;\n",
              "    }\n",
              "  </style>\n",
              "\n",
              "      <script>\n",
              "        const buttonEl =\n",
              "          document.querySelector('#df-e36edae7-6c93-4711-8056-c065b0e9e8f8 button.colab-df-convert');\n",
              "        buttonEl.style.display =\n",
              "          google.colab.kernel.accessAllowed ? 'block' : 'none';\n",
              "\n",
              "        async function convertToInteractive(key) {\n",
              "          const element = document.querySelector('#df-e36edae7-6c93-4711-8056-c065b0e9e8f8');\n",
              "          const dataTable =\n",
              "            await google.colab.kernel.invokeFunction('convertToInteractive',\n",
              "                                                     [key], {});\n",
              "          if (!dataTable) return;\n",
              "\n",
              "          const docLinkHtml = 'Like what you see? Visit the ' +\n",
              "            '<a target=\"_blank\" href=https://colab.research.google.com/notebooks/data_table.ipynb>data table notebook</a>'\n",
              "            + ' to learn more about interactive tables.';\n",
              "          element.innerHTML = '';\n",
              "          dataTable['output_type'] = 'display_data';\n",
              "          await google.colab.output.renderOutput(dataTable, element);\n",
              "          const docLink = document.createElement('div');\n",
              "          docLink.innerHTML = docLinkHtml;\n",
              "          element.appendChild(docLink);\n",
              "        }\n",
              "      </script>\n",
              "    </div>\n",
              "  </div>\n",
              "  "
            ]
          },
          "metadata": {},
          "execution_count": 53
        }
      ]
    },
    {
      "cell_type": "markdown",
      "source": [
        "Теперь, необходимо посчитать когда разработанная модель (решающее правило) сработала правильно, а когда нет."
      ],
      "metadata": {
        "id": "2Xla9FrMmB3L"
      }
    },
    {
      "cell_type": "markdown",
      "source": [
        "Случаи, когда мы заменяем значения камеры на значения нового алгоритма (regno_ai), и это решение оказывается верным (regno_ai = regno)"
      ],
      "metadata": {
        "id": "hQadxyGemXu9"
      }
    },
    {
      "cell_type": "code",
      "source": [
        "df_new[(df_new.Use_alg == 1) & (df.regno_ai == df.regno)].shape[0]"
      ],
      "metadata": {
        "colab": {
          "base_uri": "https://localhost:8080/"
        },
        "id": "_ttUOPQsZ4GK",
        "outputId": "bcdeb713-63e1-4a7b-fa7e-37122eb3ecfb"
      },
      "execution_count": 54,
      "outputs": [
        {
          "output_type": "execute_result",
          "data": {
            "text/plain": [
              "171515"
            ]
          },
          "metadata": {},
          "execution_count": 54
        }
      ]
    },
    {
      "cell_type": "markdown",
      "source": [
        "Случаи, когда мы оставляем значение камеры, алгоритм не используем(regno_recognize), и это решение оказывается верным (regno_recognize = regno)"
      ],
      "metadata": {
        "id": "9X-oNNYGmwxT"
      }
    },
    {
      "cell_type": "code",
      "source": [
        "df_new[(df_new.Use_alg == 0) & (df.regno_recognize == df.regno)].shape[0]"
      ],
      "metadata": {
        "colab": {
          "base_uri": "https://localhost:8080/"
        },
        "id": "eYXNcoBkbU1u",
        "outputId": "00f067b5-1a03-4b97-e561-d01321b92bf2"
      },
      "execution_count": 55,
      "outputs": [
        {
          "output_type": "execute_result",
          "data": {
            "text/plain": [
              "20218"
            ]
          },
          "metadata": {},
          "execution_count": 55
        }
      ]
    },
    {
      "cell_type": "markdown",
      "source": [
        "В итоге имеем 171515 + 20218  = 191733 верных случаев"
      ],
      "metadata": {
        "id": "7rmACqAPnPG1"
      }
    },
    {
      "cell_type": "markdown",
      "source": [
        "Если сравнивать:\n",
        "\n",
        "1)  с работой обычной камеры 183103 < 191733 Выигрыш: 8630 случаев\n",
        "\n",
        "2)  с заменой всегда на алгоритм 176351 < 191733 Выигрыш: 15382 случаев"
      ],
      "metadata": {
        "id": "Jpg2UYX1neoW"
      }
    },
    {
      "cell_type": "markdown",
      "source": [
        "Если брать процентное соотнешения правильности принятия решений применения нового алгоритма, то это:\n",
        "\n",
        "191733/194214(это случаев всего) = 0.987"
      ],
      "metadata": {
        "id": "KUkz7Fj-n8u4"
      }
    },
    {
      "cell_type": "markdown",
      "source": [
        "### Вывод"
      ],
      "metadata": {
        "id": "UAUlNov7VCJn"
      }
    },
    {
      "cell_type": "markdown",
      "source": [
        "Вывод:\n",
        "\n",
        "  1) Построена модель, определяющее правило изменения номера ГРЗ с распознанного камерой, на распознанный новым математическим аппаратом.\n",
        "\n",
        "  2) Критериями замены являются значения в узалах дерева. Такое деление обосновано уменьшением энтропии (или джини критерия).\n",
        "\n",
        "  3) Правило работает для 98% случаев в выборке. Экономия по справнению с работой камеры 8630 случаев."
      ],
      "metadata": {
        "id": "Y17lCuYLSxdq"
      }
    }
  ]
}